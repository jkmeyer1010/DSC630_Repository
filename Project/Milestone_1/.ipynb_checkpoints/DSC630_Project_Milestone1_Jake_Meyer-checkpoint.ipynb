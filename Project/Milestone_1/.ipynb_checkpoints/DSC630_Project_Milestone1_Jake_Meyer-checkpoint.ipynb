{
 "cells": [
  {
   "cell_type": "markdown",
   "id": "2ec94498",
   "metadata": {},
   "source": [
    "## DCS 630 Predictive Analytics (DSC630-T302 2231-1)\n",
    "## Bellevue University\n",
    "## Course Project: Milestone 1\n",
    "## Author: Jake Meyer\n",
    "## Date: 09/04/2022"
   ]
  },
  {
   "cell_type": "markdown",
   "id": "92097e87",
   "metadata": {},
   "source": [
    "## Course Project: Milestone 1 - Team Information/Communcation Plan"
   ]
  },
  {
   "cell_type": "markdown",
   "id": "f32d0e77",
   "metadata": {},
   "source": [
    "### Independent Project Requirements: <br>\n",
    "<ul>\n",
    "    <li> Craft a rough project plan for how you will accomplish each milestone and task, what your project work schedule will look like, etc...\n",
    "    <li> Identify another project (group or individual) to perform your Milestone 2 Peer Review.\n",
    "<ul>"
   ]
  },
  {
   "cell_type": "markdown",
   "id": "f069b31b",
   "metadata": {},
   "source": [
    "### Project plan for each milestone and task:"
   ]
  },
  {
   "cell_type": "markdown",
   "id": "c2c25ccf",
   "metadata": {},
   "source": [
    "Due to a fluctuating schedule over the next few months, it will be critical to identify a plan to complete each of the course project milestones. This section will outline the plan to meet each milestone deliverables over the next 12 weeks. All of the deliverables requiring code will be completed in Jupyter Notebook. A separate word document will be constructed in parallel as progress is made throughout the milestones (this will eventually be the final project paper). <br>\n",
    "<ul>\n",
    "    <li> Milestone 1: This milestone will be complete in Week 1 on 9/4. A plan will be developed and referenced for the remaining milesones for the course project. In addition, the peer review partners will be identified.\n",
    "    <li> Milestone 2: This milestone will be complete in Week 2 by 9/11. This milestone focuses on data selection and the project proposal. I often struggle with locating a dataset for the business case chosen, so I will dedicate ~3 hours throughout Week 2 to work on a chosen business case and locating a relevant dataset. My plan is to review Kaggle, Nature Scientific Data, and Google Public Datasets for the business case of interest. Once chosen, I'll dedicate ~2 hours to document the items listed in the Introduction (problem statement, explanation of importance for project, important stakeholders, data location, and the relevance of the data). In addition, I'll work to include additional details within the project proposal to include types of models planned to be used, a plan for evaluating results, scope for intentions of what to learn, any risks tied to the project, and a contingency plan. The deliverable for Milestone 2 will be a minimum three page (double-spaced) document. The peer review for Milestone 2 will be completed in Week 3 as well.\n",
    "    <li> Milestone 3: This milestone will be complete in Week 6 by 10/9. Building from Milestone 2, this phase will involve the prelimnary analysis of the data. I'll plan to spend between 2-4 hours per week in Weeks 4, 5, and 6 to progress through this milestone. This will require EDA on the data to answer whether the initial questions will be addressed, identify which visualizations will serve useful, identify any adjustments required to previous questions, identify any adjustments to chosen models or evaluation metrics, and consider whether the original expectations are still adequate. The peer review for Milestone 3 will be completed in Week 7 as well. \n",
    "    <li> Milestone 4: This milestone will be complete in Week 9 by 10/30. Building from Milestone 3, this milestone will involve finalizing the results. I'll plan to spend between 2-4 hours per week in Weeks 8 and 9 to progress through this milestone. This milestone will involve the explanation for prepping the data, an evaluation of a model, explanation of results, and a summary of conclusions/recommendations. The peer review for Milestone 4 will be completed in Week 10 as well.\n",
    "    <li> Milestone 5: This milestone will be complete in Week 12 by Saturday, 11/19.This will require two deliverables. First, a Final Project Paper adhering to the introduction, summary of methods and results, and a conclusion. Second, a 10-15 minute presentation with slides summarizing the project. I'll plan to work on the paper in Week 11 and the presentation in Week 12. I'll plan to dedicate 5-10 hours each week to finish this milestone. Throughout the project, I'll attempt to keep the separate word document for the Final Paper to ensure Week 11 and 12 go smoothly/efficiently.\n",
    "<ul>"
   ]
  },
  {
   "cell_type": "markdown",
   "id": "5807ca3c",
   "metadata": {},
   "source": [
    "### Final Project Paper Minimum Requirements"
   ]
  },
  {
   "cell_type": "markdown",
   "id": "7c8743f4",
   "metadata": {},
   "source": [
    "**Introduction** <br>\n",
    "• Problem statement <br>\n",
    "• Explain why the problem is important/interesting <br>\n",
    "• Who would be interested in solving this problem, i.e., who would you be trying to sell \n",
    "this project to? <br>\n",
    "• Where did you get your data? <br>\n",
    "• Why is this data useful to solve the problem? <br>\n",
    "**Methods/Results** <br>\n",
    "• What did you find out by exploring the data? <br>\n",
    "• Are there any visualizations that help tell a story with your data? <br>\n",
    "• What steps did you perform to prepare the data? <br>\n",
    "• What type of types of modeling are you using on your data? <br>\n",
    "• What metric(s) are you using to measure your results? <br>\n",
    "• Why did you choose the metric(s) you chose? <br>\n",
    "**Conclusion** <br>\n",
    "• What did you learn? <br>\n",
    "• What recommendations would you make based off your analysis? <br>\n",
    "• Is your model ready for deployment? <br>\n",
    "• What work still needs to be done? <br>\n",
    "**References** <br>\n",
    "• Include at least three properly cited references at the end of your paper <br>\n",
    "• Also include in-text citations <br>"
   ]
  },
  {
   "cell_type": "markdown",
   "id": "42802530",
   "metadata": {},
   "source": [
    "### Peer review projects:"
   ]
  },
  {
   "cell_type": "markdown",
   "id": "a2c4f0c1",
   "metadata": {},
   "source": [
    "The three peer review projects I have agreed to work on will be from Joel McMillin, Sarika Singhal, and Sucharitha Puppala. I will plan to perform the peer reviews as required for Milestone 2, Milestone 3, and Milestone 4 (in Weeks 3, 7, and 10) for these three individuals. "
   ]
  }
 ],
 "metadata": {
  "kernelspec": {
   "display_name": "Python 3 (ipykernel)",
   "language": "python",
   "name": "python3"
  },
  "language_info": {
   "codemirror_mode": {
    "name": "ipython",
    "version": 3
   },
   "file_extension": ".py",
   "mimetype": "text/x-python",
   "name": "python",
   "nbconvert_exporter": "python",
   "pygments_lexer": "ipython3",
   "version": "3.9.7"
  }
 },
 "nbformat": 4,
 "nbformat_minor": 5
}
