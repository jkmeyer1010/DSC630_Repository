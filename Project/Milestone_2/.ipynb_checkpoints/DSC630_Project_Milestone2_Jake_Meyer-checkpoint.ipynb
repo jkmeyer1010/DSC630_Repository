{
 "cells": [
  {
   "cell_type": "markdown",
   "id": "2ec94498",
   "metadata": {},
   "source": [
    "## DCS 630 Predictive Analytics (DSC630-T302 2231-1)\n",
    "## Bellevue University\n",
    "## Course Project: Milestone 2\n",
    "## Author: Jake Meyer\n",
    "## Date: 09/11/2022"
   ]
  },
  {
   "cell_type": "markdown",
   "id": "92097e87",
   "metadata": {},
   "source": [
    "## Course Project: Milestone 2 - Data Selection and Project Proposal"
   ]
  },
  {
   "cell_type": "markdown",
   "id": "f32d0e77",
   "metadata": {},
   "source": [
    "### Milestone 2 Requirements: <br>\n",
    "Data selection and the project proposal are due this week. Identify the initial dataset within this milestone.\n",
    "Milestone 2 will include the information outlined in the Introduction section of the paper. Additional items to address are the following: <br>\n",
    "<ul>\n",
    "    <li> What types of model or models will be used and why?\n",
    "    <li> What is the plan to evaluate the results?\n",
    "    <li> What do I hope to learn?\n",
    "    <li> Assess any risks with the proposal.\n",
    "    <li> Identify a contingency plan if the original project plan does not work out.\n",
    "    <li> Include anything else that may be important.\n",
    "<ul> "
   ]
  },
  {
   "cell_type": "markdown",
   "id": "7489f067",
   "metadata": {},
   "source": [
    "The proposal should be a minimum of three pages, double-spaced. You should treat this proposal as the start of your final project paper submission. But also remember this is only the initial proposal. Your findings might take you in a different direction for the final submission.\n",
    "Please submit Milestone 2 in Blackboard under the group submission link.\n",
    "This should be submitted through the group assignment submission regardless if it is an independent project or multi-person group.\n",
    "Also, post your Milestone 2 in your Teams project folder for peer reviews."
   ]
  },
  {
   "cell_type": "markdown",
   "id": "5807ca3c",
   "metadata": {},
   "source": [
    "### Final Project Paper Minimum Requirements"
   ]
  },
  {
   "cell_type": "markdown",
   "id": "7c8743f4",
   "metadata": {},
   "source": [
    "**Introduction** <br>\n",
    "• Problem statement <br>\n",
    "• Explain why the problem is important/interesting <br>\n",
    "• Who would be interested in solving this problem, i.e., who would you be trying to sell \n",
    "this project to? <br>\n",
    "• Where did you get your data? <br>\n",
    "• Why is this data useful to solve the problem? <br>\n",
    "**Methods/Results** <br>\n",
    "• What did you find out by exploring the data? <br>\n",
    "• Are there any visualizations that help tell a story with your data? <br>\n",
    "• What steps did you perform to prepare the data? <br>\n",
    "• What type of types of modeling are you using on your data? <br>\n",
    "• What metric(s) are you using to measure your results? <br>\n",
    "• Why did you choose the metric(s) you chose? <br>\n",
    "**Conclusion** <br>\n",
    "• What did you learn? <br>\n",
    "• What recommendations would you make based off your analysis? <br>\n",
    "• Is your model ready for deployment? <br>\n",
    "• What work still needs to be done? <br>\n",
    "**References** <br>\n",
    "• Include at least three properly cited references at the end of your paper <br>\n",
    "• Also include in-text citations <br>"
   ]
  },
  {
   "cell_type": "markdown",
   "id": "42802530",
   "metadata": {},
   "source": [
    "### Peer review projects:"
   ]
  },
  {
   "cell_type": "markdown",
   "id": "a2c4f0c1",
   "metadata": {},
   "source": [
    "The three peer review projects I have agreed to work on will be from Joel McMillin, Sarika Singhal, and Sucharitha Puppala. I will plan to perform the peer reviews as required for Milestone 2, Milestone 3, and Milestone 4 (in Weeks 3, 7, and 10) for these three individuals. "
   ]
  }
 ],
 "metadata": {
  "kernelspec": {
   "display_name": "Python 3 (ipykernel)",
   "language": "python",
   "name": "python3"
  },
  "language_info": {
   "codemirror_mode": {
    "name": "ipython",
    "version": 3
   },
   "file_extension": ".py",
   "mimetype": "text/x-python",
   "name": "python",
   "nbconvert_exporter": "python",
   "pygments_lexer": "ipython3",
   "version": "3.7.1"
  }
 },
 "nbformat": 4,
 "nbformat_minor": 5
}
