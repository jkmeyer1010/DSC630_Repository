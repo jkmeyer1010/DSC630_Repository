{
 "cells": [
  {
   "cell_type": "markdown",
   "id": "2ec94498",
   "metadata": {},
   "source": [
    "# DCS 630 Predictive Analytics (DSC630-T302 2231-1)\n",
    "## Bellevue University\n",
    "## 3.2 Assignment: Using Data to Improve MLB Attendance\n",
    "## Author: Jake Meyer\n",
    "## Date: 09/18/2022"
   ]
  },
  {
   "cell_type": "markdown",
   "id": "86b7c8f0",
   "metadata": {},
   "source": [
    "## Assignment Instructions:\n",
    "In this assignment, you will be using data on the Los Angeles Dodgers Major League Baseball (MLB) team located here: dodgers.csv. Use this data to make a recommendation to management on how to improve attendance. Tell a story with your analysis and clearly explain the steps you take to arrive at your conclusion. This is an open-ended question, and there is no one right answer. You are welcome to do additional research and/or use domain knowledge to assist your analysis, but clearly state any assumptions you make.\n",
    "You can use R or Python to complete this assignment. Submit your code and output to the submission link. Make sure to add comments to all of your code and to document your steps, process, and analysis."
   ]
  },
  {
   "cell_type": "code",
   "execution_count": 1,
   "id": "6452c85f",
   "metadata": {},
   "outputs": [],
   "source": [
    "'''\n",
    "Import the necessary libraries to complete Exercise 3.2.\n",
    "'''\n",
    "import numpy as np\n",
    "import pandas as pd\n",
    "import seaborn as sns\n",
    "import scipy.stats\n",
    "import matplotlib\n",
    "import matplotlib.pyplot as plt"
   ]
  },
  {
   "cell_type": "code",
   "execution_count": 2,
   "id": "289b853c",
   "metadata": {},
   "outputs": [
    {
     "name": "stdout",
     "output_type": "stream",
     "text": [
      "numpy version: 1.20.3\n",
      "pandas version: 1.3.4\n",
      "seaborn version: 0.11.2\n",
      "matplotlib version: 3.4.3\n"
     ]
    }
   ],
   "source": [
    "'''\n",
    "Check the versions of the packages.\n",
    "'''\n",
    "print('numpy version:', np.__version__)\n",
    "print('pandas version:', pd.__version__)\n",
    "print('seaborn version:', sns.__version__)\n",
    "print('matplotlib version:', matplotlib.__version__)"
   ]
  },
  {
   "cell_type": "code",
   "execution_count": 3,
   "id": "e4a6abca",
   "metadata": {},
   "outputs": [],
   "source": [
    "'''\n",
    "Import the dataset.\n",
    "Note: A copy of the CSV file was placed into the same directory as this notebook.\n",
    "Utilize pd.read_csv() to read the file as a pandas data frame.\n",
    "'''\n",
    "df = pd.read_csv('dodgers-2022.csv')"
   ]
  },
  {
   "cell_type": "code",
   "execution_count": 4,
   "id": "d5b2bee2",
   "metadata": {},
   "outputs": [
    {
     "data": {
      "text/html": [
       "<div>\n",
       "<style scoped>\n",
       "    .dataframe tbody tr th:only-of-type {\n",
       "        vertical-align: middle;\n",
       "    }\n",
       "\n",
       "    .dataframe tbody tr th {\n",
       "        vertical-align: top;\n",
       "    }\n",
       "\n",
       "    .dataframe thead th {\n",
       "        text-align: right;\n",
       "    }\n",
       "</style>\n",
       "<table border=\"1\" class=\"dataframe\">\n",
       "  <thead>\n",
       "    <tr style=\"text-align: right;\">\n",
       "      <th></th>\n",
       "      <th>month</th>\n",
       "      <th>day</th>\n",
       "      <th>attend</th>\n",
       "      <th>day_of_week</th>\n",
       "      <th>opponent</th>\n",
       "      <th>temp</th>\n",
       "      <th>skies</th>\n",
       "      <th>day_night</th>\n",
       "      <th>cap</th>\n",
       "      <th>shirt</th>\n",
       "      <th>fireworks</th>\n",
       "      <th>bobblehead</th>\n",
       "    </tr>\n",
       "  </thead>\n",
       "  <tbody>\n",
       "    <tr>\n",
       "      <th>0</th>\n",
       "      <td>APR</td>\n",
       "      <td>10</td>\n",
       "      <td>56000</td>\n",
       "      <td>Tuesday</td>\n",
       "      <td>Pirates</td>\n",
       "      <td>67</td>\n",
       "      <td>Clear</td>\n",
       "      <td>Day</td>\n",
       "      <td>NO</td>\n",
       "      <td>NO</td>\n",
       "      <td>NO</td>\n",
       "      <td>NO</td>\n",
       "    </tr>\n",
       "    <tr>\n",
       "      <th>1</th>\n",
       "      <td>APR</td>\n",
       "      <td>11</td>\n",
       "      <td>29729</td>\n",
       "      <td>Wednesday</td>\n",
       "      <td>Pirates</td>\n",
       "      <td>58</td>\n",
       "      <td>Cloudy</td>\n",
       "      <td>Night</td>\n",
       "      <td>NO</td>\n",
       "      <td>NO</td>\n",
       "      <td>NO</td>\n",
       "      <td>NO</td>\n",
       "    </tr>\n",
       "    <tr>\n",
       "      <th>2</th>\n",
       "      <td>APR</td>\n",
       "      <td>12</td>\n",
       "      <td>28328</td>\n",
       "      <td>Thursday</td>\n",
       "      <td>Pirates</td>\n",
       "      <td>57</td>\n",
       "      <td>Cloudy</td>\n",
       "      <td>Night</td>\n",
       "      <td>NO</td>\n",
       "      <td>NO</td>\n",
       "      <td>NO</td>\n",
       "      <td>NO</td>\n",
       "    </tr>\n",
       "    <tr>\n",
       "      <th>3</th>\n",
       "      <td>APR</td>\n",
       "      <td>13</td>\n",
       "      <td>31601</td>\n",
       "      <td>Friday</td>\n",
       "      <td>Padres</td>\n",
       "      <td>54</td>\n",
       "      <td>Cloudy</td>\n",
       "      <td>Night</td>\n",
       "      <td>NO</td>\n",
       "      <td>NO</td>\n",
       "      <td>YES</td>\n",
       "      <td>NO</td>\n",
       "    </tr>\n",
       "    <tr>\n",
       "      <th>4</th>\n",
       "      <td>APR</td>\n",
       "      <td>14</td>\n",
       "      <td>46549</td>\n",
       "      <td>Saturday</td>\n",
       "      <td>Padres</td>\n",
       "      <td>57</td>\n",
       "      <td>Cloudy</td>\n",
       "      <td>Night</td>\n",
       "      <td>NO</td>\n",
       "      <td>NO</td>\n",
       "      <td>NO</td>\n",
       "      <td>NO</td>\n",
       "    </tr>\n",
       "    <tr>\n",
       "      <th>5</th>\n",
       "      <td>APR</td>\n",
       "      <td>15</td>\n",
       "      <td>38359</td>\n",
       "      <td>Sunday</td>\n",
       "      <td>Padres</td>\n",
       "      <td>65</td>\n",
       "      <td>Clear</td>\n",
       "      <td>Day</td>\n",
       "      <td>NO</td>\n",
       "      <td>NO</td>\n",
       "      <td>NO</td>\n",
       "      <td>NO</td>\n",
       "    </tr>\n",
       "    <tr>\n",
       "      <th>6</th>\n",
       "      <td>APR</td>\n",
       "      <td>23</td>\n",
       "      <td>26376</td>\n",
       "      <td>Monday</td>\n",
       "      <td>Braves</td>\n",
       "      <td>60</td>\n",
       "      <td>Cloudy</td>\n",
       "      <td>Night</td>\n",
       "      <td>NO</td>\n",
       "      <td>NO</td>\n",
       "      <td>NO</td>\n",
       "      <td>NO</td>\n",
       "    </tr>\n",
       "    <tr>\n",
       "      <th>7</th>\n",
       "      <td>APR</td>\n",
       "      <td>24</td>\n",
       "      <td>44014</td>\n",
       "      <td>Tuesday</td>\n",
       "      <td>Braves</td>\n",
       "      <td>63</td>\n",
       "      <td>Cloudy</td>\n",
       "      <td>Night</td>\n",
       "      <td>NO</td>\n",
       "      <td>NO</td>\n",
       "      <td>NO</td>\n",
       "      <td>NO</td>\n",
       "    </tr>\n",
       "    <tr>\n",
       "      <th>8</th>\n",
       "      <td>APR</td>\n",
       "      <td>25</td>\n",
       "      <td>26345</td>\n",
       "      <td>Wednesday</td>\n",
       "      <td>Braves</td>\n",
       "      <td>64</td>\n",
       "      <td>Cloudy</td>\n",
       "      <td>Night</td>\n",
       "      <td>NO</td>\n",
       "      <td>NO</td>\n",
       "      <td>NO</td>\n",
       "      <td>NO</td>\n",
       "    </tr>\n",
       "    <tr>\n",
       "      <th>9</th>\n",
       "      <td>APR</td>\n",
       "      <td>27</td>\n",
       "      <td>44807</td>\n",
       "      <td>Friday</td>\n",
       "      <td>Nationals</td>\n",
       "      <td>66</td>\n",
       "      <td>Clear</td>\n",
       "      <td>Night</td>\n",
       "      <td>NO</td>\n",
       "      <td>NO</td>\n",
       "      <td>YES</td>\n",
       "      <td>NO</td>\n",
       "    </tr>\n",
       "  </tbody>\n",
       "</table>\n",
       "</div>"
      ],
      "text/plain": [
       "  month  day  attend day_of_week   opponent  temp   skies day_night cap shirt  \\\n",
       "0   APR   10   56000     Tuesday    Pirates    67  Clear        Day  NO    NO   \n",
       "1   APR   11   29729   Wednesday    Pirates    58  Cloudy     Night  NO    NO   \n",
       "2   APR   12   28328    Thursday    Pirates    57  Cloudy     Night  NO    NO   \n",
       "3   APR   13   31601      Friday     Padres    54  Cloudy     Night  NO    NO   \n",
       "4   APR   14   46549    Saturday     Padres    57  Cloudy     Night  NO    NO   \n",
       "5   APR   15   38359      Sunday     Padres    65  Clear        Day  NO    NO   \n",
       "6   APR   23   26376      Monday     Braves    60  Cloudy     Night  NO    NO   \n",
       "7   APR   24   44014     Tuesday     Braves    63  Cloudy     Night  NO    NO   \n",
       "8   APR   25   26345   Wednesday     Braves    64  Cloudy     Night  NO    NO   \n",
       "9   APR   27   44807      Friday  Nationals    66  Clear      Night  NO    NO   \n",
       "\n",
       "  fireworks bobblehead  \n",
       "0        NO         NO  \n",
       "1        NO         NO  \n",
       "2        NO         NO  \n",
       "3       YES         NO  \n",
       "4        NO         NO  \n",
       "5        NO         NO  \n",
       "6        NO         NO  \n",
       "7        NO         NO  \n",
       "8        NO         NO  \n",
       "9       YES         NO  "
      ]
     },
     "execution_count": 4,
     "metadata": {},
     "output_type": "execute_result"
    }
   ],
   "source": [
    "'''\n",
    "Use head() function to display the first 10 rows of data of df.\n",
    "'''\n",
    "df.head(10)"
   ]
  },
  {
   "cell_type": "code",
   "execution_count": 5,
   "id": "a98e4eec",
   "metadata": {},
   "outputs": [
    {
     "name": "stdout",
     "output_type": "stream",
     "text": [
      "There are 81 rows and 12 columns in this dataset.\n"
     ]
    }
   ],
   "source": [
    "'''\n",
    "Understand the shape of the dataset.\n",
    "'''\n",
    "print('There are {} rows and {} columns in this dataset.'.format(df.shape[0], df.shape[1]))"
   ]
  },
  {
   "cell_type": "code",
   "execution_count": 6,
   "id": "5080c80a",
   "metadata": {},
   "outputs": [
    {
     "name": "stdout",
     "output_type": "stream",
     "text": [
      "This dataset contains 972 records.\n"
     ]
    }
   ],
   "source": [
    "'''\n",
    "Display the total size of this dataset.\n",
    "'''\n",
    "print('This dataset contains {} records.'.format(df.size))"
   ]
  },
  {
   "cell_type": "code",
   "execution_count": 7,
   "id": "89c81c57",
   "metadata": {},
   "outputs": [
    {
     "data": {
      "text/plain": [
       "month          object\n",
       "day             int64\n",
       "attend          int64\n",
       "day_of_week    object\n",
       "opponent       object\n",
       "temp            int64\n",
       "skies          object\n",
       "day_night      object\n",
       "cap            object\n",
       "shirt          object\n",
       "fireworks      object\n",
       "bobblehead     object\n",
       "dtype: object"
      ]
     },
     "execution_count": 7,
     "metadata": {},
     "output_type": "execute_result"
    }
   ],
   "source": [
    "'''\n",
    "Find the type of data within each column initially.\n",
    "'''\n",
    "df.dtypes"
   ]
  },
  {
   "cell_type": "code",
   "execution_count": 8,
   "id": "4bb0b05d",
   "metadata": {},
   "outputs": [
    {
     "data": {
      "text/plain": [
       "month          0\n",
       "day            0\n",
       "attend         0\n",
       "day_of_week    0\n",
       "opponent       0\n",
       "temp           0\n",
       "skies          0\n",
       "day_night      0\n",
       "cap            0\n",
       "shirt          0\n",
       "fireworks      0\n",
       "bobblehead     0\n",
       "dtype: int64"
      ]
     },
     "execution_count": 8,
     "metadata": {},
     "output_type": "execute_result"
    }
   ],
   "source": [
    "'''\n",
    "Understand if there are any missing values in the dataset.\n",
    "'''\n",
    "df.isna().sum().sort_values(ascending = False)"
   ]
  },
  {
   "cell_type": "code",
   "execution_count": 9,
   "id": "e45a7d06",
   "metadata": {},
   "outputs": [
    {
     "data": {
      "text/plain": [
       "0"
      ]
     },
     "execution_count": 9,
     "metadata": {},
     "output_type": "execute_result"
    }
   ],
   "source": [
    "'''\n",
    "Understand how many missing values are in the dataset initially.\n",
    "'''\n",
    "df.isna().sum().sum()"
   ]
  },
  {
   "cell_type": "code",
   "execution_count": 10,
   "id": "489a5a69",
   "metadata": {},
   "outputs": [
    {
     "data": {
      "text/plain": [
       "month           7\n",
       "day            31\n",
       "attend         80\n",
       "day_of_week     7\n",
       "opponent       17\n",
       "temp           32\n",
       "skies           2\n",
       "day_night       2\n",
       "cap             2\n",
       "shirt           2\n",
       "fireworks       2\n",
       "bobblehead      2\n",
       "dtype: int64"
      ]
     },
     "execution_count": 10,
     "metadata": {},
     "output_type": "execute_result"
    }
   ],
   "source": [
    "'''\n",
    "Understand how many unique values are within each feature.\n",
    "'''\n",
    "df.nunique()"
   ]
  },
  {
   "cell_type": "code",
   "execution_count": 11,
   "id": "43656495",
   "metadata": {},
   "outputs": [
    {
     "name": "stdout",
     "output_type": "stream",
     "text": [
      "<class 'pandas.core.frame.DataFrame'>\n",
      "RangeIndex: 81 entries, 0 to 80\n",
      "Data columns (total 12 columns):\n",
      " #   Column       Non-Null Count  Dtype \n",
      "---  ------       --------------  ----- \n",
      " 0   month        81 non-null     object\n",
      " 1   day          81 non-null     int64 \n",
      " 2   attend       81 non-null     int64 \n",
      " 3   day_of_week  81 non-null     object\n",
      " 4   opponent     81 non-null     object\n",
      " 5   temp         81 non-null     int64 \n",
      " 6   skies        81 non-null     object\n",
      " 7   day_night    81 non-null     object\n",
      " 8   cap          81 non-null     object\n",
      " 9   shirt        81 non-null     object\n",
      " 10  fireworks    81 non-null     object\n",
      " 11  bobblehead   81 non-null     object\n",
      "dtypes: int64(3), object(9)\n",
      "memory usage: 7.7+ KB\n"
     ]
    }
   ],
   "source": [
    "'''\n",
    "Summarize the findings above with info().\n",
    "'''\n",
    "df.info()"
   ]
  },
  {
   "cell_type": "markdown",
   "id": "5ba81979",
   "metadata": {},
   "source": [
    "### Observations for Dataset Summary: \n",
    "<ul>\n",
    "    <li> \n",
    "    <li> \n",
    "    <li> \n",
    "    <li> \n",
    "    <li> \n",
    "    <li> \n",
    "<ul>"
   ]
  },
  {
   "cell_type": "code",
   "execution_count": null,
   "id": "2d264a1b",
   "metadata": {},
   "outputs": [],
   "source": []
  }
 ],
 "metadata": {
  "kernelspec": {
   "display_name": "Python 3 (ipykernel)",
   "language": "python",
   "name": "python3"
  },
  "language_info": {
   "codemirror_mode": {
    "name": "ipython",
    "version": 3
   },
   "file_extension": ".py",
   "mimetype": "text/x-python",
   "name": "python",
   "nbconvert_exporter": "python",
   "pygments_lexer": "ipython3",
   "version": "3.9.7"
  }
 },
 "nbformat": 4,
 "nbformat_minor": 5
}
