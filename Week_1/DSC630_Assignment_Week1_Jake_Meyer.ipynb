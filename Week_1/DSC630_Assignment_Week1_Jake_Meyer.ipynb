{
 "cells": [
  {
   "cell_type": "markdown",
   "id": "2ec94498",
   "metadata": {},
   "source": [
    "# DCS 630 Predictive Analytics (DSC630-T302 2231-1)\n",
    "## Bellevue University\n",
    "## 1.2 Assignment: R/Python Refresher\n",
    "## Author: Jake Meyer\n",
    "## Date: 09/03/2022"
   ]
  },
  {
   "cell_type": "markdown",
   "id": "86b7c8f0",
   "metadata": {},
   "source": [
    "## Assignment Instructions:\n",
    "This assignment is a refresher of data analysis and visualization using Python and/or R. Find a data set that interests you and has appropriate data to create some interesting visualizations. A few good sources for finding datasets include Kaggle, UCI ML Repository, and the US Bureau of Labor Statistics.\n",
    "With the dataset that you choose, perform the following steps using Python and/or R:<br>\n",
    "\n",
    "<ol>\n",
    "    <li> Write a summary of your data and identify at least two questions to explore visually with your data.\n",
    "    <li> Create a histogram or bar graph from your data.\n",
    "    <li> Create a boxplot from your data.\n",
    "    <li> Create a bivariate plot from your data.\n",
    "    <li> Create any additional visualizations that will help to answer the question(s) you want to answer.\n",
    "    <li> Summarize your results and make a conclusion. Explain how you arrived at this conclusion and how your visualizations support your conclusion.\n",
    "<ol>"
   ]
  },
  {
   "cell_type": "markdown",
   "id": "92248782",
   "metadata": {},
   "source": [
    "Link to the dataset for the assignment is provided below: <br>\n",
    "[Student_Mental Health_Analysis](https://www.kaggle.com/datasets/shariful07/student-mental-health?resource=download)"
   ]
  },
  {
   "cell_type": "code",
   "execution_count": 9,
   "id": "6452c85f",
   "metadata": {},
   "outputs": [],
   "source": [
    "'''\n",
    "Import the necessary libraries to complete Exercise 1.2.\n",
    "'''\n",
    "import numpy as np\n",
    "import pandas as pd\n",
    "import seaborn as sns\n",
    "import scipy.stats\n",
    "import matplotlib\n",
    "import matplotlib.pyplot as plt"
   ]
  },
  {
   "cell_type": "code",
   "execution_count": 10,
   "id": "289b853c",
   "metadata": {},
   "outputs": [
    {
     "name": "stdout",
     "output_type": "stream",
     "text": [
      "numpy version: 1.20.3\n",
      "pandas version: 1.3.4\n",
      "seaborn version: 0.11.2\n",
      "matplotlib version: 3.4.3\n"
     ]
    }
   ],
   "source": [
    "'''\n",
    "Check the versions of the packages.\n",
    "'''\n",
    "print('numpy version:', np.__version__)\n",
    "print('pandas version:', pd.__version__)\n",
    "print('seaborn version:', sns.__version__)\n",
    "print('matplotlib version:', matplotlib.__version__)"
   ]
  },
  {
   "cell_type": "markdown",
   "id": "1355b653",
   "metadata": {},
   "source": [
    "## 1. Dataset summary and exploratory questions."
   ]
  },
  {
   "cell_type": "markdown",
   "id": "d064b9eb",
   "metadata": {},
   "source": [
    "### Summary of data:\n",
    "The dataset utilized for this assignment focuses on the mental health of students. There are 11 features and 101 rows within this dataset. The features include time, gender, age, course type, year of study, cummulative grade point average (CGPA), marital status, depression status, anxiety status, panic attacks, and specialist treatment status. This data was obtained via Google forms survey from University students. This dataset was obtained from Kaggle courtesy of MD Shariful Islam. "
   ]
  },
  {
   "cell_type": "markdown",
   "id": "e1fad1de",
   "metadata": {},
   "source": [
    "### Exploratory Questions:\n",
    "<ul>\n",
    "    <li> Does gender have any influence on mental health issues?\n",
    "    <li> Does age have any influence on mental health issues?\n",
    "    <li> Does the number of years in college have any influence on mental health issues?\n",
    "    <li> Does being married have any influence on mental health issues?\n",
    "    <li> Do individuals with depression also have anxiety and/or panic attacks?\n",
    "    <li> How many individuals with depression are seeking treatment?\n",
    "<ul>"
   ]
  },
  {
   "cell_type": "code",
   "execution_count": 11,
   "id": "e4a6abca",
   "metadata": {},
   "outputs": [],
   "source": [
    "'''\n",
    "Import the dataset.\n",
    "Note: A copy of the CSV file was placed into the same directory as this notebook.\n",
    "Utilize pd.read_csv() to read the file as a pandas data frame.\n",
    "'''\n",
    "df = pd.read_csv('Student_Mental_Health.csv')"
   ]
  },
  {
   "cell_type": "code",
   "execution_count": 12,
   "id": "d5b2bee2",
   "metadata": {},
   "outputs": [
    {
     "data": {
      "text/html": [
       "<div>\n",
       "<style scoped>\n",
       "    .dataframe tbody tr th:only-of-type {\n",
       "        vertical-align: middle;\n",
       "    }\n",
       "\n",
       "    .dataframe tbody tr th {\n",
       "        vertical-align: top;\n",
       "    }\n",
       "\n",
       "    .dataframe thead th {\n",
       "        text-align: right;\n",
       "    }\n",
       "</style>\n",
       "<table border=\"1\" class=\"dataframe\">\n",
       "  <thead>\n",
       "    <tr style=\"text-align: right;\">\n",
       "      <th></th>\n",
       "      <th>Timestamp</th>\n",
       "      <th>Choose your gender</th>\n",
       "      <th>Age</th>\n",
       "      <th>What is your course?</th>\n",
       "      <th>Your current year of Study</th>\n",
       "      <th>What is your CGPA?</th>\n",
       "      <th>Marital status</th>\n",
       "      <th>Do you have Depression?</th>\n",
       "      <th>Do you have Anxiety?</th>\n",
       "      <th>Do you have Panic attack?</th>\n",
       "      <th>Did you seek any specialist for a treatment?</th>\n",
       "    </tr>\n",
       "  </thead>\n",
       "  <tbody>\n",
       "    <tr>\n",
       "      <th>0</th>\n",
       "      <td>8/7/2020 12:02</td>\n",
       "      <td>Female</td>\n",
       "      <td>18.0</td>\n",
       "      <td>Engineering</td>\n",
       "      <td>year 1</td>\n",
       "      <td>3.00 - 3.49</td>\n",
       "      <td>No</td>\n",
       "      <td>Yes</td>\n",
       "      <td>No</td>\n",
       "      <td>Yes</td>\n",
       "      <td>No</td>\n",
       "    </tr>\n",
       "    <tr>\n",
       "      <th>1</th>\n",
       "      <td>8/7/2020 12:04</td>\n",
       "      <td>Male</td>\n",
       "      <td>21.0</td>\n",
       "      <td>Islamic education</td>\n",
       "      <td>year 2</td>\n",
       "      <td>3.00 - 3.49</td>\n",
       "      <td>No</td>\n",
       "      <td>No</td>\n",
       "      <td>Yes</td>\n",
       "      <td>No</td>\n",
       "      <td>No</td>\n",
       "    </tr>\n",
       "    <tr>\n",
       "      <th>2</th>\n",
       "      <td>8/7/2020 12:05</td>\n",
       "      <td>Male</td>\n",
       "      <td>19.0</td>\n",
       "      <td>BIT</td>\n",
       "      <td>Year 1</td>\n",
       "      <td>3.00 - 3.49</td>\n",
       "      <td>No</td>\n",
       "      <td>Yes</td>\n",
       "      <td>Yes</td>\n",
       "      <td>Yes</td>\n",
       "      <td>No</td>\n",
       "    </tr>\n",
       "    <tr>\n",
       "      <th>3</th>\n",
       "      <td>8/7/2020 12:06</td>\n",
       "      <td>Female</td>\n",
       "      <td>22.0</td>\n",
       "      <td>Laws</td>\n",
       "      <td>year 3</td>\n",
       "      <td>3.00 - 3.49</td>\n",
       "      <td>Yes</td>\n",
       "      <td>Yes</td>\n",
       "      <td>No</td>\n",
       "      <td>No</td>\n",
       "      <td>No</td>\n",
       "    </tr>\n",
       "    <tr>\n",
       "      <th>4</th>\n",
       "      <td>8/7/2020 12:13</td>\n",
       "      <td>Male</td>\n",
       "      <td>23.0</td>\n",
       "      <td>Mathemathics</td>\n",
       "      <td>year 4</td>\n",
       "      <td>3.00 - 3.49</td>\n",
       "      <td>No</td>\n",
       "      <td>No</td>\n",
       "      <td>No</td>\n",
       "      <td>No</td>\n",
       "      <td>No</td>\n",
       "    </tr>\n",
       "    <tr>\n",
       "      <th>5</th>\n",
       "      <td>8/7/2020 12:31</td>\n",
       "      <td>Male</td>\n",
       "      <td>19.0</td>\n",
       "      <td>Engineering</td>\n",
       "      <td>Year 2</td>\n",
       "      <td>3.50 - 4.00</td>\n",
       "      <td>No</td>\n",
       "      <td>No</td>\n",
       "      <td>No</td>\n",
       "      <td>Yes</td>\n",
       "      <td>No</td>\n",
       "    </tr>\n",
       "    <tr>\n",
       "      <th>6</th>\n",
       "      <td>8/7/2020 12:32</td>\n",
       "      <td>Female</td>\n",
       "      <td>23.0</td>\n",
       "      <td>Pendidikan islam</td>\n",
       "      <td>year 2</td>\n",
       "      <td>3.50 - 4.00</td>\n",
       "      <td>Yes</td>\n",
       "      <td>Yes</td>\n",
       "      <td>No</td>\n",
       "      <td>Yes</td>\n",
       "      <td>No</td>\n",
       "    </tr>\n",
       "    <tr>\n",
       "      <th>7</th>\n",
       "      <td>8/7/2020 12:33</td>\n",
       "      <td>Female</td>\n",
       "      <td>18.0</td>\n",
       "      <td>BCS</td>\n",
       "      <td>year 1</td>\n",
       "      <td>3.50 - 4.00</td>\n",
       "      <td>No</td>\n",
       "      <td>No</td>\n",
       "      <td>Yes</td>\n",
       "      <td>No</td>\n",
       "      <td>No</td>\n",
       "    </tr>\n",
       "    <tr>\n",
       "      <th>8</th>\n",
       "      <td>8/7/2020 12:35</td>\n",
       "      <td>Female</td>\n",
       "      <td>19.0</td>\n",
       "      <td>Human Resources</td>\n",
       "      <td>Year 2</td>\n",
       "      <td>2.50 - 2.99</td>\n",
       "      <td>No</td>\n",
       "      <td>No</td>\n",
       "      <td>No</td>\n",
       "      <td>No</td>\n",
       "      <td>No</td>\n",
       "    </tr>\n",
       "    <tr>\n",
       "      <th>9</th>\n",
       "      <td>8/7/2020 12:39</td>\n",
       "      <td>Male</td>\n",
       "      <td>18.0</td>\n",
       "      <td>Irkhs</td>\n",
       "      <td>year 1</td>\n",
       "      <td>3.50 - 4.00</td>\n",
       "      <td>No</td>\n",
       "      <td>No</td>\n",
       "      <td>Yes</td>\n",
       "      <td>Yes</td>\n",
       "      <td>No</td>\n",
       "    </tr>\n",
       "  </tbody>\n",
       "</table>\n",
       "</div>"
      ],
      "text/plain": [
       "        Timestamp Choose your gender   Age What is your course?  \\\n",
       "0  8/7/2020 12:02             Female  18.0          Engineering   \n",
       "1  8/7/2020 12:04               Male  21.0    Islamic education   \n",
       "2  8/7/2020 12:05               Male  19.0                  BIT   \n",
       "3  8/7/2020 12:06             Female  22.0                 Laws   \n",
       "4  8/7/2020 12:13               Male  23.0         Mathemathics   \n",
       "5  8/7/2020 12:31               Male  19.0          Engineering   \n",
       "6  8/7/2020 12:32             Female  23.0     Pendidikan islam   \n",
       "7  8/7/2020 12:33             Female  18.0                  BCS   \n",
       "8  8/7/2020 12:35             Female  19.0      Human Resources   \n",
       "9  8/7/2020 12:39               Male  18.0                Irkhs   \n",
       "\n",
       "  Your current year of Study What is your CGPA? Marital status  \\\n",
       "0                     year 1        3.00 - 3.49             No   \n",
       "1                     year 2        3.00 - 3.49             No   \n",
       "2                     Year 1        3.00 - 3.49             No   \n",
       "3                     year 3        3.00 - 3.49            Yes   \n",
       "4                     year 4        3.00 - 3.49             No   \n",
       "5                     Year 2        3.50 - 4.00             No   \n",
       "6                     year 2       3.50 - 4.00             Yes   \n",
       "7                     year 1        3.50 - 4.00             No   \n",
       "8                     Year 2        2.50 - 2.99             No   \n",
       "9                     year 1        3.50 - 4.00             No   \n",
       "\n",
       "  Do you have Depression? Do you have Anxiety? Do you have Panic attack?  \\\n",
       "0                     Yes                   No                       Yes   \n",
       "1                      No                  Yes                        No   \n",
       "2                     Yes                  Yes                       Yes   \n",
       "3                     Yes                   No                        No   \n",
       "4                      No                   No                        No   \n",
       "5                      No                   No                       Yes   \n",
       "6                     Yes                   No                       Yes   \n",
       "7                      No                  Yes                        No   \n",
       "8                      No                   No                        No   \n",
       "9                      No                  Yes                       Yes   \n",
       "\n",
       "  Did you seek any specialist for a treatment?  \n",
       "0                                           No  \n",
       "1                                           No  \n",
       "2                                           No  \n",
       "3                                           No  \n",
       "4                                           No  \n",
       "5                                           No  \n",
       "6                                           No  \n",
       "7                                           No  \n",
       "8                                           No  \n",
       "9                                           No  "
      ]
     },
     "execution_count": 12,
     "metadata": {},
     "output_type": "execute_result"
    }
   ],
   "source": [
    "'''\n",
    "Use head() function to display the first 10 rows of data of df.\n",
    "'''\n",
    "df.head(10)"
   ]
  },
  {
   "cell_type": "code",
   "execution_count": 15,
   "id": "a98e4eec",
   "metadata": {},
   "outputs": [
    {
     "name": "stdout",
     "output_type": "stream",
     "text": [
      "There are 101 rows and 11 columns in this dataset.\n"
     ]
    }
   ],
   "source": [
    "'''\n",
    "Understand the shape of the dataset.\n",
    "'''\n",
    "print('There are {} rows and {} columns in this dataset.'.format(df.shape[0], df.shape[1]))"
   ]
  },
  {
   "cell_type": "code",
   "execution_count": 16,
   "id": "5080c80a",
   "metadata": {},
   "outputs": [
    {
     "name": "stdout",
     "output_type": "stream",
     "text": [
      "This dataset contains 1111 records.\n"
     ]
    }
   ],
   "source": [
    "'''\n",
    "Display the total size of this dataset.\n",
    "'''\n",
    "print('This dataset contains {} records.'.format(df.size))"
   ]
  },
  {
   "cell_type": "code",
   "execution_count": 17,
   "id": "89c81c57",
   "metadata": {},
   "outputs": [
    {
     "data": {
      "text/plain": [
       "Timestamp                                        object\n",
       "Choose your gender                               object\n",
       "Age                                             float64\n",
       "What is your course?                             object\n",
       "Your current year of Study                       object\n",
       "What is your CGPA?                               object\n",
       "Marital status                                   object\n",
       "Do you have Depression?                          object\n",
       "Do you have Anxiety?                             object\n",
       "Do you have Panic attack?                        object\n",
       "Did you seek any specialist for a treatment?     object\n",
       "dtype: object"
      ]
     },
     "execution_count": 17,
     "metadata": {},
     "output_type": "execute_result"
    }
   ],
   "source": [
    "'''\n",
    "Find the type of data within each column initially.\n",
    "'''\n",
    "df.dtypes"
   ]
  },
  {
   "cell_type": "code",
   "execution_count": 18,
   "id": "4bb0b05d",
   "metadata": {},
   "outputs": [
    {
     "data": {
      "text/plain": [
       "Age                                             1\n",
       "Timestamp                                       0\n",
       "Choose your gender                              0\n",
       "What is your course?                            0\n",
       "Your current year of Study                      0\n",
       "What is your CGPA?                              0\n",
       "Marital status                                  0\n",
       "Do you have Depression?                         0\n",
       "Do you have Anxiety?                            0\n",
       "Do you have Panic attack?                       0\n",
       "Did you seek any specialist for a treatment?    0\n",
       "dtype: int64"
      ]
     },
     "execution_count": 18,
     "metadata": {},
     "output_type": "execute_result"
    }
   ],
   "source": [
    "'''\n",
    "Understand if there are any missing values in the dataset.\n",
    "'''\n",
    "df.isna().sum().sort_values(ascending = False)"
   ]
  },
  {
   "cell_type": "code",
   "execution_count": 19,
   "id": "e45a7d06",
   "metadata": {},
   "outputs": [
    {
     "data": {
      "text/plain": [
       "1"
      ]
     },
     "execution_count": 19,
     "metadata": {},
     "output_type": "execute_result"
    }
   ],
   "source": [
    "'''\n",
    "Understand how many missing values are in the dataset initially.\n",
    "'''\n",
    "df.isna().sum().sum()"
   ]
  },
  {
   "cell_type": "code",
   "execution_count": 28,
   "id": "489a5a69",
   "metadata": {},
   "outputs": [
    {
     "data": {
      "text/plain": [
       "Timestamp                                       92\n",
       "Choose your gender                               2\n",
       "Age                                              7\n",
       "What is your course?                            49\n",
       "Your current year of Study                       7\n",
       "What is your CGPA?                               6\n",
       "Marital status                                   2\n",
       "Do you have Depression?                          2\n",
       "Do you have Anxiety?                             2\n",
       "Do you have Panic attack?                        2\n",
       "Did you seek any specialist for a treatment?     2\n",
       "dtype: int64"
      ]
     },
     "execution_count": 28,
     "metadata": {},
     "output_type": "execute_result"
    }
   ],
   "source": [
    "'''\n",
    "Understand how many unique values are within each feature.\n",
    "'''\n",
    "df.nunique()"
   ]
  },
  {
   "cell_type": "code",
   "execution_count": 31,
   "id": "43656495",
   "metadata": {},
   "outputs": [
    {
     "name": "stdout",
     "output_type": "stream",
     "text": [
      "<class 'pandas.core.frame.DataFrame'>\n",
      "RangeIndex: 101 entries, 0 to 100\n",
      "Data columns (total 11 columns):\n",
      " #   Column          Non-Null Count  Dtype  \n",
      "---  ------          --------------  -----  \n",
      " 0   timestamp       101 non-null    object \n",
      " 1   gender          101 non-null    object \n",
      " 2   age             100 non-null    float64\n",
      " 3   course          101 non-null    object \n",
      " 4   year_of_study   101 non-null    object \n",
      " 5   cgpa            101 non-null    object \n",
      " 6   married         101 non-null    object \n",
      " 7   depressed       101 non-null    object \n",
      " 8   anxiety         101 non-null    object \n",
      " 9   panic_attacks   101 non-null    object \n",
      " 10  seek_treatment  101 non-null    object \n",
      "dtypes: float64(1), object(10)\n",
      "memory usage: 8.8+ KB\n"
     ]
    }
   ],
   "source": [
    "'''\n",
    "Summarize the findings above with info().\n",
    "'''\n",
    "df.info()"
   ]
  },
  {
   "cell_type": "markdown",
   "id": "5ba81979",
   "metadata": {},
   "source": [
    "### Observations for Dataset Summary: \n",
    "<ul>\n",
    "    <li> The column names will need to be simplified.\n",
    "    <li> There is one missing value in the Age column.\n",
    "    <li> The Timestamp column will not be value added within this dataset.\n",
    "    <li> Only numeric feature is Age. All other features are categorical.\n",
    "    <li> The column for number of years in school looks to have 7 categories even though there seems to only be years 1-4. This will need to be resolved to consider the current year of study in the analysis.\n",
    "    <li> The dataset will need some cleaning prior to the next phase.\n",
    "<ul>"
   ]
  },
  {
   "cell_type": "code",
   "execution_count": 30,
   "id": "60e493ed",
   "metadata": {},
   "outputs": [
    {
     "data": {
      "text/html": [
       "<div>\n",
       "<style scoped>\n",
       "    .dataframe tbody tr th:only-of-type {\n",
       "        vertical-align: middle;\n",
       "    }\n",
       "\n",
       "    .dataframe tbody tr th {\n",
       "        vertical-align: top;\n",
       "    }\n",
       "\n",
       "    .dataframe thead th {\n",
       "        text-align: right;\n",
       "    }\n",
       "</style>\n",
       "<table border=\"1\" class=\"dataframe\">\n",
       "  <thead>\n",
       "    <tr style=\"text-align: right;\">\n",
       "      <th></th>\n",
       "      <th>timestamp</th>\n",
       "      <th>gender</th>\n",
       "      <th>age</th>\n",
       "      <th>course</th>\n",
       "      <th>year_of_study</th>\n",
       "      <th>cgpa</th>\n",
       "      <th>married</th>\n",
       "      <th>depressed</th>\n",
       "      <th>anxiety</th>\n",
       "      <th>panic_attacks</th>\n",
       "      <th>seek_treatment</th>\n",
       "    </tr>\n",
       "  </thead>\n",
       "  <tbody>\n",
       "    <tr>\n",
       "      <th>0</th>\n",
       "      <td>8/7/2020 12:02</td>\n",
       "      <td>Female</td>\n",
       "      <td>18.0</td>\n",
       "      <td>Engineering</td>\n",
       "      <td>year 1</td>\n",
       "      <td>3.00 - 3.49</td>\n",
       "      <td>No</td>\n",
       "      <td>Yes</td>\n",
       "      <td>No</td>\n",
       "      <td>Yes</td>\n",
       "      <td>No</td>\n",
       "    </tr>\n",
       "    <tr>\n",
       "      <th>1</th>\n",
       "      <td>8/7/2020 12:04</td>\n",
       "      <td>Male</td>\n",
       "      <td>21.0</td>\n",
       "      <td>Islamic education</td>\n",
       "      <td>year 2</td>\n",
       "      <td>3.00 - 3.49</td>\n",
       "      <td>No</td>\n",
       "      <td>No</td>\n",
       "      <td>Yes</td>\n",
       "      <td>No</td>\n",
       "      <td>No</td>\n",
       "    </tr>\n",
       "    <tr>\n",
       "      <th>2</th>\n",
       "      <td>8/7/2020 12:05</td>\n",
       "      <td>Male</td>\n",
       "      <td>19.0</td>\n",
       "      <td>BIT</td>\n",
       "      <td>Year 1</td>\n",
       "      <td>3.00 - 3.49</td>\n",
       "      <td>No</td>\n",
       "      <td>Yes</td>\n",
       "      <td>Yes</td>\n",
       "      <td>Yes</td>\n",
       "      <td>No</td>\n",
       "    </tr>\n",
       "    <tr>\n",
       "      <th>3</th>\n",
       "      <td>8/7/2020 12:06</td>\n",
       "      <td>Female</td>\n",
       "      <td>22.0</td>\n",
       "      <td>Laws</td>\n",
       "      <td>year 3</td>\n",
       "      <td>3.00 - 3.49</td>\n",
       "      <td>Yes</td>\n",
       "      <td>Yes</td>\n",
       "      <td>No</td>\n",
       "      <td>No</td>\n",
       "      <td>No</td>\n",
       "    </tr>\n",
       "    <tr>\n",
       "      <th>4</th>\n",
       "      <td>8/7/2020 12:13</td>\n",
       "      <td>Male</td>\n",
       "      <td>23.0</td>\n",
       "      <td>Mathemathics</td>\n",
       "      <td>year 4</td>\n",
       "      <td>3.00 - 3.49</td>\n",
       "      <td>No</td>\n",
       "      <td>No</td>\n",
       "      <td>No</td>\n",
       "      <td>No</td>\n",
       "      <td>No</td>\n",
       "    </tr>\n",
       "    <tr>\n",
       "      <th>5</th>\n",
       "      <td>8/7/2020 12:31</td>\n",
       "      <td>Male</td>\n",
       "      <td>19.0</td>\n",
       "      <td>Engineering</td>\n",
       "      <td>Year 2</td>\n",
       "      <td>3.50 - 4.00</td>\n",
       "      <td>No</td>\n",
       "      <td>No</td>\n",
       "      <td>No</td>\n",
       "      <td>Yes</td>\n",
       "      <td>No</td>\n",
       "    </tr>\n",
       "    <tr>\n",
       "      <th>6</th>\n",
       "      <td>8/7/2020 12:32</td>\n",
       "      <td>Female</td>\n",
       "      <td>23.0</td>\n",
       "      <td>Pendidikan islam</td>\n",
       "      <td>year 2</td>\n",
       "      <td>3.50 - 4.00</td>\n",
       "      <td>Yes</td>\n",
       "      <td>Yes</td>\n",
       "      <td>No</td>\n",
       "      <td>Yes</td>\n",
       "      <td>No</td>\n",
       "    </tr>\n",
       "    <tr>\n",
       "      <th>7</th>\n",
       "      <td>8/7/2020 12:33</td>\n",
       "      <td>Female</td>\n",
       "      <td>18.0</td>\n",
       "      <td>BCS</td>\n",
       "      <td>year 1</td>\n",
       "      <td>3.50 - 4.00</td>\n",
       "      <td>No</td>\n",
       "      <td>No</td>\n",
       "      <td>Yes</td>\n",
       "      <td>No</td>\n",
       "      <td>No</td>\n",
       "    </tr>\n",
       "    <tr>\n",
       "      <th>8</th>\n",
       "      <td>8/7/2020 12:35</td>\n",
       "      <td>Female</td>\n",
       "      <td>19.0</td>\n",
       "      <td>Human Resources</td>\n",
       "      <td>Year 2</td>\n",
       "      <td>2.50 - 2.99</td>\n",
       "      <td>No</td>\n",
       "      <td>No</td>\n",
       "      <td>No</td>\n",
       "      <td>No</td>\n",
       "      <td>No</td>\n",
       "    </tr>\n",
       "    <tr>\n",
       "      <th>9</th>\n",
       "      <td>8/7/2020 12:39</td>\n",
       "      <td>Male</td>\n",
       "      <td>18.0</td>\n",
       "      <td>Irkhs</td>\n",
       "      <td>year 1</td>\n",
       "      <td>3.50 - 4.00</td>\n",
       "      <td>No</td>\n",
       "      <td>No</td>\n",
       "      <td>Yes</td>\n",
       "      <td>Yes</td>\n",
       "      <td>No</td>\n",
       "    </tr>\n",
       "  </tbody>\n",
       "</table>\n",
       "</div>"
      ],
      "text/plain": [
       "        timestamp  gender   age             course year_of_study  \\\n",
       "0  8/7/2020 12:02  Female  18.0        Engineering        year 1   \n",
       "1  8/7/2020 12:04    Male  21.0  Islamic education        year 2   \n",
       "2  8/7/2020 12:05    Male  19.0                BIT        Year 1   \n",
       "3  8/7/2020 12:06  Female  22.0               Laws        year 3   \n",
       "4  8/7/2020 12:13    Male  23.0       Mathemathics        year 4   \n",
       "5  8/7/2020 12:31    Male  19.0        Engineering        Year 2   \n",
       "6  8/7/2020 12:32  Female  23.0   Pendidikan islam        year 2   \n",
       "7  8/7/2020 12:33  Female  18.0                BCS        year 1   \n",
       "8  8/7/2020 12:35  Female  19.0    Human Resources        Year 2   \n",
       "9  8/7/2020 12:39    Male  18.0              Irkhs        year 1   \n",
       "\n",
       "           cgpa married depressed anxiety panic_attacks seek_treatment  \n",
       "0   3.00 - 3.49      No       Yes      No           Yes             No  \n",
       "1   3.00 - 3.49      No        No     Yes            No             No  \n",
       "2   3.00 - 3.49      No       Yes     Yes           Yes             No  \n",
       "3   3.00 - 3.49     Yes       Yes      No            No             No  \n",
       "4   3.00 - 3.49      No        No      No            No             No  \n",
       "5   3.50 - 4.00      No        No      No           Yes             No  \n",
       "6  3.50 - 4.00      Yes       Yes      No           Yes             No  \n",
       "7   3.50 - 4.00      No        No     Yes            No             No  \n",
       "8   2.50 - 2.99      No        No      No            No             No  \n",
       "9   3.50 - 4.00      No        No     Yes           Yes             No  "
      ]
     },
     "execution_count": 30,
     "metadata": {},
     "output_type": "execute_result"
    }
   ],
   "source": [
    "'''\n",
    "Rename the columns with simplified headers.\n",
    "'''\n",
    "column_names = ['timestamp', 'gender', 'age', 'course', 'year_of_study', 'cgpa',\n",
    "               'married', 'depressed', 'anxiety', 'panic_attacks', 'seek_treatment']\n",
    "\n",
    "df.columns = column_names\n",
    "df.head(10)"
   ]
  },
  {
   "cell_type": "code",
   "execution_count": 35,
   "id": "08c62143",
   "metadata": {},
   "outputs": [
    {
     "data": {
      "text/plain": [
       "0"
      ]
     },
     "execution_count": 35,
     "metadata": {},
     "output_type": "execute_result"
    }
   ],
   "source": [
    "'''\n",
    "Fill the missing value in the Age column with the median age value.\n",
    "Show there are no  missing values in the dataset.\n",
    "'''\n",
    "median_age = df['age'].median()\n",
    "df['age'].fillna(median_age, inplace = True)\n",
    "df.isna().sum().sum()"
   ]
  },
  {
   "cell_type": "code",
   "execution_count": 36,
   "id": "999c8697",
   "metadata": {},
   "outputs": [
    {
     "data": {
      "text/html": [
       "<div>\n",
       "<style scoped>\n",
       "    .dataframe tbody tr th:only-of-type {\n",
       "        vertical-align: middle;\n",
       "    }\n",
       "\n",
       "    .dataframe tbody tr th {\n",
       "        vertical-align: top;\n",
       "    }\n",
       "\n",
       "    .dataframe thead th {\n",
       "        text-align: right;\n",
       "    }\n",
       "</style>\n",
       "<table border=\"1\" class=\"dataframe\">\n",
       "  <thead>\n",
       "    <tr style=\"text-align: right;\">\n",
       "      <th></th>\n",
       "      <th>gender</th>\n",
       "      <th>age</th>\n",
       "      <th>course</th>\n",
       "      <th>year_of_study</th>\n",
       "      <th>cgpa</th>\n",
       "      <th>married</th>\n",
       "      <th>depressed</th>\n",
       "      <th>anxiety</th>\n",
       "      <th>panic_attacks</th>\n",
       "      <th>seek_treatment</th>\n",
       "    </tr>\n",
       "  </thead>\n",
       "  <tbody>\n",
       "    <tr>\n",
       "      <th>0</th>\n",
       "      <td>Female</td>\n",
       "      <td>18.0</td>\n",
       "      <td>Engineering</td>\n",
       "      <td>year 1</td>\n",
       "      <td>3.00 - 3.49</td>\n",
       "      <td>No</td>\n",
       "      <td>Yes</td>\n",
       "      <td>No</td>\n",
       "      <td>Yes</td>\n",
       "      <td>No</td>\n",
       "    </tr>\n",
       "    <tr>\n",
       "      <th>1</th>\n",
       "      <td>Male</td>\n",
       "      <td>21.0</td>\n",
       "      <td>Islamic education</td>\n",
       "      <td>year 2</td>\n",
       "      <td>3.00 - 3.49</td>\n",
       "      <td>No</td>\n",
       "      <td>No</td>\n",
       "      <td>Yes</td>\n",
       "      <td>No</td>\n",
       "      <td>No</td>\n",
       "    </tr>\n",
       "    <tr>\n",
       "      <th>2</th>\n",
       "      <td>Male</td>\n",
       "      <td>19.0</td>\n",
       "      <td>BIT</td>\n",
       "      <td>Year 1</td>\n",
       "      <td>3.00 - 3.49</td>\n",
       "      <td>No</td>\n",
       "      <td>Yes</td>\n",
       "      <td>Yes</td>\n",
       "      <td>Yes</td>\n",
       "      <td>No</td>\n",
       "    </tr>\n",
       "    <tr>\n",
       "      <th>3</th>\n",
       "      <td>Female</td>\n",
       "      <td>22.0</td>\n",
       "      <td>Laws</td>\n",
       "      <td>year 3</td>\n",
       "      <td>3.00 - 3.49</td>\n",
       "      <td>Yes</td>\n",
       "      <td>Yes</td>\n",
       "      <td>No</td>\n",
       "      <td>No</td>\n",
       "      <td>No</td>\n",
       "    </tr>\n",
       "    <tr>\n",
       "      <th>4</th>\n",
       "      <td>Male</td>\n",
       "      <td>23.0</td>\n",
       "      <td>Mathemathics</td>\n",
       "      <td>year 4</td>\n",
       "      <td>3.00 - 3.49</td>\n",
       "      <td>No</td>\n",
       "      <td>No</td>\n",
       "      <td>No</td>\n",
       "      <td>No</td>\n",
       "      <td>No</td>\n",
       "    </tr>\n",
       "    <tr>\n",
       "      <th>5</th>\n",
       "      <td>Male</td>\n",
       "      <td>19.0</td>\n",
       "      <td>Engineering</td>\n",
       "      <td>Year 2</td>\n",
       "      <td>3.50 - 4.00</td>\n",
       "      <td>No</td>\n",
       "      <td>No</td>\n",
       "      <td>No</td>\n",
       "      <td>Yes</td>\n",
       "      <td>No</td>\n",
       "    </tr>\n",
       "    <tr>\n",
       "      <th>6</th>\n",
       "      <td>Female</td>\n",
       "      <td>23.0</td>\n",
       "      <td>Pendidikan islam</td>\n",
       "      <td>year 2</td>\n",
       "      <td>3.50 - 4.00</td>\n",
       "      <td>Yes</td>\n",
       "      <td>Yes</td>\n",
       "      <td>No</td>\n",
       "      <td>Yes</td>\n",
       "      <td>No</td>\n",
       "    </tr>\n",
       "    <tr>\n",
       "      <th>7</th>\n",
       "      <td>Female</td>\n",
       "      <td>18.0</td>\n",
       "      <td>BCS</td>\n",
       "      <td>year 1</td>\n",
       "      <td>3.50 - 4.00</td>\n",
       "      <td>No</td>\n",
       "      <td>No</td>\n",
       "      <td>Yes</td>\n",
       "      <td>No</td>\n",
       "      <td>No</td>\n",
       "    </tr>\n",
       "    <tr>\n",
       "      <th>8</th>\n",
       "      <td>Female</td>\n",
       "      <td>19.0</td>\n",
       "      <td>Human Resources</td>\n",
       "      <td>Year 2</td>\n",
       "      <td>2.50 - 2.99</td>\n",
       "      <td>No</td>\n",
       "      <td>No</td>\n",
       "      <td>No</td>\n",
       "      <td>No</td>\n",
       "      <td>No</td>\n",
       "    </tr>\n",
       "    <tr>\n",
       "      <th>9</th>\n",
       "      <td>Male</td>\n",
       "      <td>18.0</td>\n",
       "      <td>Irkhs</td>\n",
       "      <td>year 1</td>\n",
       "      <td>3.50 - 4.00</td>\n",
       "      <td>No</td>\n",
       "      <td>No</td>\n",
       "      <td>Yes</td>\n",
       "      <td>Yes</td>\n",
       "      <td>No</td>\n",
       "    </tr>\n",
       "  </tbody>\n",
       "</table>\n",
       "</div>"
      ],
      "text/plain": [
       "   gender   age             course year_of_study          cgpa married  \\\n",
       "0  Female  18.0        Engineering        year 1   3.00 - 3.49      No   \n",
       "1    Male  21.0  Islamic education        year 2   3.00 - 3.49      No   \n",
       "2    Male  19.0                BIT        Year 1   3.00 - 3.49      No   \n",
       "3  Female  22.0               Laws        year 3   3.00 - 3.49     Yes   \n",
       "4    Male  23.0       Mathemathics        year 4   3.00 - 3.49      No   \n",
       "5    Male  19.0        Engineering        Year 2   3.50 - 4.00      No   \n",
       "6  Female  23.0   Pendidikan islam        year 2  3.50 - 4.00      Yes   \n",
       "7  Female  18.0                BCS        year 1   3.50 - 4.00      No   \n",
       "8  Female  19.0    Human Resources        Year 2   2.50 - 2.99      No   \n",
       "9    Male  18.0              Irkhs        year 1   3.50 - 4.00      No   \n",
       "\n",
       "  depressed anxiety panic_attacks seek_treatment  \n",
       "0       Yes      No           Yes             No  \n",
       "1        No     Yes            No             No  \n",
       "2       Yes     Yes           Yes             No  \n",
       "3       Yes      No            No             No  \n",
       "4        No      No            No             No  \n",
       "5        No      No           Yes             No  \n",
       "6       Yes      No           Yes             No  \n",
       "7        No     Yes            No             No  \n",
       "8        No      No            No             No  \n",
       "9        No     Yes           Yes             No  "
      ]
     },
     "execution_count": 36,
     "metadata": {},
     "output_type": "execute_result"
    }
   ],
   "source": [
    "'''\n",
    "Remove the timestamp column from the dataset.\n",
    "'''\n",
    "df.drop('timestamp', axis = 1, inplace = True)\n",
    "df.head(10)"
   ]
  },
  {
   "cell_type": "code",
   "execution_count": 37,
   "id": "03732506",
   "metadata": {},
   "outputs": [
    {
     "data": {
      "text/html": [
       "<div>\n",
       "<style scoped>\n",
       "    .dataframe tbody tr th:only-of-type {\n",
       "        vertical-align: middle;\n",
       "    }\n",
       "\n",
       "    .dataframe tbody tr th {\n",
       "        vertical-align: top;\n",
       "    }\n",
       "\n",
       "    .dataframe thead th {\n",
       "        text-align: right;\n",
       "    }\n",
       "</style>\n",
       "<table border=\"1\" class=\"dataframe\">\n",
       "  <thead>\n",
       "    <tr style=\"text-align: right;\">\n",
       "      <th></th>\n",
       "      <th>gender</th>\n",
       "      <th>age</th>\n",
       "      <th>course</th>\n",
       "      <th>year_of_study</th>\n",
       "      <th>cgpa</th>\n",
       "      <th>married</th>\n",
       "      <th>depressed</th>\n",
       "      <th>anxiety</th>\n",
       "      <th>panic_attacks</th>\n",
       "      <th>seek_treatment</th>\n",
       "    </tr>\n",
       "  </thead>\n",
       "  <tbody>\n",
       "    <tr>\n",
       "      <th>0</th>\n",
       "      <td>Female</td>\n",
       "      <td>18.0</td>\n",
       "      <td>Engineering</td>\n",
       "      <td>1</td>\n",
       "      <td>3.00 - 3.49</td>\n",
       "      <td>No</td>\n",
       "      <td>Yes</td>\n",
       "      <td>No</td>\n",
       "      <td>Yes</td>\n",
       "      <td>No</td>\n",
       "    </tr>\n",
       "    <tr>\n",
       "      <th>1</th>\n",
       "      <td>Male</td>\n",
       "      <td>21.0</td>\n",
       "      <td>Islamic education</td>\n",
       "      <td>2</td>\n",
       "      <td>3.00 - 3.49</td>\n",
       "      <td>No</td>\n",
       "      <td>No</td>\n",
       "      <td>Yes</td>\n",
       "      <td>No</td>\n",
       "      <td>No</td>\n",
       "    </tr>\n",
       "    <tr>\n",
       "      <th>2</th>\n",
       "      <td>Male</td>\n",
       "      <td>19.0</td>\n",
       "      <td>BIT</td>\n",
       "      <td>1</td>\n",
       "      <td>3.00 - 3.49</td>\n",
       "      <td>No</td>\n",
       "      <td>Yes</td>\n",
       "      <td>Yes</td>\n",
       "      <td>Yes</td>\n",
       "      <td>No</td>\n",
       "    </tr>\n",
       "    <tr>\n",
       "      <th>3</th>\n",
       "      <td>Female</td>\n",
       "      <td>22.0</td>\n",
       "      <td>Laws</td>\n",
       "      <td>3</td>\n",
       "      <td>3.00 - 3.49</td>\n",
       "      <td>Yes</td>\n",
       "      <td>Yes</td>\n",
       "      <td>No</td>\n",
       "      <td>No</td>\n",
       "      <td>No</td>\n",
       "    </tr>\n",
       "    <tr>\n",
       "      <th>4</th>\n",
       "      <td>Male</td>\n",
       "      <td>23.0</td>\n",
       "      <td>Mathemathics</td>\n",
       "      <td>4</td>\n",
       "      <td>3.00 - 3.49</td>\n",
       "      <td>No</td>\n",
       "      <td>No</td>\n",
       "      <td>No</td>\n",
       "      <td>No</td>\n",
       "      <td>No</td>\n",
       "    </tr>\n",
       "    <tr>\n",
       "      <th>5</th>\n",
       "      <td>Male</td>\n",
       "      <td>19.0</td>\n",
       "      <td>Engineering</td>\n",
       "      <td>2</td>\n",
       "      <td>3.50 - 4.00</td>\n",
       "      <td>No</td>\n",
       "      <td>No</td>\n",
       "      <td>No</td>\n",
       "      <td>Yes</td>\n",
       "      <td>No</td>\n",
       "    </tr>\n",
       "    <tr>\n",
       "      <th>6</th>\n",
       "      <td>Female</td>\n",
       "      <td>23.0</td>\n",
       "      <td>Pendidikan islam</td>\n",
       "      <td>2</td>\n",
       "      <td>3.50 - 4.00</td>\n",
       "      <td>Yes</td>\n",
       "      <td>Yes</td>\n",
       "      <td>No</td>\n",
       "      <td>Yes</td>\n",
       "      <td>No</td>\n",
       "    </tr>\n",
       "    <tr>\n",
       "      <th>7</th>\n",
       "      <td>Female</td>\n",
       "      <td>18.0</td>\n",
       "      <td>BCS</td>\n",
       "      <td>1</td>\n",
       "      <td>3.50 - 4.00</td>\n",
       "      <td>No</td>\n",
       "      <td>No</td>\n",
       "      <td>Yes</td>\n",
       "      <td>No</td>\n",
       "      <td>No</td>\n",
       "    </tr>\n",
       "    <tr>\n",
       "      <th>8</th>\n",
       "      <td>Female</td>\n",
       "      <td>19.0</td>\n",
       "      <td>Human Resources</td>\n",
       "      <td>2</td>\n",
       "      <td>2.50 - 2.99</td>\n",
       "      <td>No</td>\n",
       "      <td>No</td>\n",
       "      <td>No</td>\n",
       "      <td>No</td>\n",
       "      <td>No</td>\n",
       "    </tr>\n",
       "    <tr>\n",
       "      <th>9</th>\n",
       "      <td>Male</td>\n",
       "      <td>18.0</td>\n",
       "      <td>Irkhs</td>\n",
       "      <td>1</td>\n",
       "      <td>3.50 - 4.00</td>\n",
       "      <td>No</td>\n",
       "      <td>No</td>\n",
       "      <td>Yes</td>\n",
       "      <td>Yes</td>\n",
       "      <td>No</td>\n",
       "    </tr>\n",
       "  </tbody>\n",
       "</table>\n",
       "</div>"
      ],
      "text/plain": [
       "   gender   age             course year_of_study          cgpa married  \\\n",
       "0  Female  18.0        Engineering             1   3.00 - 3.49      No   \n",
       "1    Male  21.0  Islamic education             2   3.00 - 3.49      No   \n",
       "2    Male  19.0                BIT             1   3.00 - 3.49      No   \n",
       "3  Female  22.0               Laws             3   3.00 - 3.49     Yes   \n",
       "4    Male  23.0       Mathemathics             4   3.00 - 3.49      No   \n",
       "5    Male  19.0        Engineering             2   3.50 - 4.00      No   \n",
       "6  Female  23.0   Pendidikan islam             2  3.50 - 4.00      Yes   \n",
       "7  Female  18.0                BCS             1   3.50 - 4.00      No   \n",
       "8  Female  19.0    Human Resources             2   2.50 - 2.99      No   \n",
       "9    Male  18.0              Irkhs             1   3.50 - 4.00      No   \n",
       "\n",
       "  depressed anxiety panic_attacks seek_treatment  \n",
       "0       Yes      No           Yes             No  \n",
       "1        No     Yes            No             No  \n",
       "2       Yes     Yes           Yes             No  \n",
       "3       Yes      No            No             No  \n",
       "4        No      No            No             No  \n",
       "5        No      No           Yes             No  \n",
       "6       Yes      No           Yes             No  \n",
       "7        No     Yes            No             No  \n",
       "8        No      No            No             No  \n",
       "9        No     Yes           Yes             No  "
      ]
     },
     "execution_count": 37,
     "metadata": {},
     "output_type": "execute_result"
    }
   ],
   "source": [
    "'''\n",
    "Clean-up the various ways year_of_study values are entered for years 1-4.\n",
    "'''\n",
    "dict_replace = {'Year 1': '1', 'year 1': '1','Year 2': '2', 'year 2': '2',\n",
    "               'Year 3': '3', 'year 3': '3', 'Year 4': '4', 'year 4': '4'}\n",
    "\n",
    "df['year_of_study'].replace(dict_replace, inplace = True)\n",
    "df.head(10)"
   ]
  },
  {
   "cell_type": "code",
   "execution_count": 38,
   "id": "28456be1",
   "metadata": {},
   "outputs": [
    {
     "name": "stdout",
     "output_type": "stream",
     "text": [
      "<class 'pandas.core.frame.DataFrame'>\n",
      "RangeIndex: 101 entries, 0 to 100\n",
      "Data columns (total 10 columns):\n",
      " #   Column          Non-Null Count  Dtype  \n",
      "---  ------          --------------  -----  \n",
      " 0   gender          101 non-null    object \n",
      " 1   age             101 non-null    float64\n",
      " 2   course          101 non-null    object \n",
      " 3   year_of_study   101 non-null    object \n",
      " 4   cgpa            101 non-null    object \n",
      " 5   married         101 non-null    object \n",
      " 6   depressed       101 non-null    object \n",
      " 7   anxiety         101 non-null    object \n",
      " 8   panic_attacks   101 non-null    object \n",
      " 9   seek_treatment  101 non-null    object \n",
      "dtypes: float64(1), object(9)\n",
      "memory usage: 8.0+ KB\n"
     ]
    }
   ],
   "source": [
    "'''\n",
    "Summarize the cleaned dataset with info()\n",
    "'''\n",
    "df.info()"
   ]
  },
  {
   "cell_type": "markdown",
   "id": "4520a044",
   "metadata": {},
   "source": [
    "### 2. Create a histogram or bargraph from your data."
   ]
  },
  {
   "cell_type": "code",
   "execution_count": 49,
   "id": "d199472a",
   "metadata": {},
   "outputs": [
    {
     "data": {
      "text/plain": [
       "(array([32., 22.,  6.,  3.,  2., 13., 23.]),\n",
       " array([18.        , 18.85714286, 19.71428571, 20.57142857, 21.42857143,\n",
       "        22.28571429, 23.14285714, 24.        ]),\n",
       " <BarContainer object of 7 artists>)"
      ]
     },
     "execution_count": 49,
     "metadata": {},
     "output_type": "execute_result"
    },
    {
     "data": {
      "image/png": "[encoded data removed]",
      "text/plain": [
       "<Figure size 432x288 with 1 Axes>"
      ]
     },
     "metadata": {
      "needs_background": "light"
     },
     "output_type": "display_data"
    }
   ],
   "source": [
    "'''\n",
    "Create a histogram for the only numeric data in the dataset 'age'. \n",
    "This will not be very beneficial, but I will create the histogram to show the code.\n",
    "'''\n",
    "plt.hist(df['age'], bins = 7)"
   ]
  },
  {
   "cell_type": "code",
   "execution_count": 54,
   "id": "75ccbe58",
   "metadata": {},
   "outputs": [
    {
     "data": {
      "image/png": "[encoded data removed]",
      "text/plain": [
       "<Figure size 432x288 with 1 Axes>"
      ]
     },
     "metadata": {
      "needs_background": "light"
     },
     "output_type": "display_data"
    }
   ],
   "source": [
    "'''\n",
    "Understand how many males and females are present within the dataset.\n",
    "'''\n",
    "sns.countplot(x='gender', data = df).set(title = 'Count of Gender')\n",
    "plt.show()"
   ]
  },
  {
   "cell_type": "code",
   "execution_count": 52,
   "id": "10253bb2",
   "metadata": {},
   "outputs": [
    {
     "data": {
      "text/plain": [
       "Female    75\n",
       "Male      26\n",
       "Name: gender, dtype: int64"
      ]
     },
     "execution_count": 52,
     "metadata": {},
     "output_type": "execute_result"
    }
   ],
   "source": [
    "'''\n",
    "Show the values present for males and females within the dataset.\n",
    "'''\n",
    "df['gender'].value_counts()"
   ]
  },
  {
   "cell_type": "code",
   "execution_count": 55,
   "id": "92c1f566",
   "metadata": {},
   "outputs": [
    {
     "data": {
      "image/png": "[encoded data removed]",
      "text/plain": [
       "<Figure size 432x288 with 1 Axes>"
      ]
     },
     "metadata": {
      "needs_background": "light"
     },
     "output_type": "display_data"
    }
   ],
   "source": [
    "'''\n",
    "Understand how many students are in year 1,2,3 or 4 of their studies.\n",
    "'''\n",
    "sns.countplot(x='year_of_study', data = df).set(title = 'Count of Years in School')\n",
    "plt.show()"
   ]
  },
  {
   "cell_type": "code",
   "execution_count": 56,
   "id": "e78a522f",
   "metadata": {},
   "outputs": [
    {
     "data": {
      "text/plain": [
       "1    43\n",
       "2    26\n",
       "3    24\n",
       "4     8\n",
       "Name: year_of_study, dtype: int64"
      ]
     },
     "execution_count": 56,
     "metadata": {},
     "output_type": "execute_result"
    }
   ],
   "source": [
    "'''\n",
    "Show the values present for number of students in years 1,2,3, or 4 within the dataset.\n",
    "'''\n",
    "df['year_of_study'].value_counts()"
   ]
  },
  {
   "cell_type": "code",
   "execution_count": 57,
   "id": "2ad99db8",
   "metadata": {},
   "outputs": [
    {
     "data": {
      "image/png": "[encoded data removed]",
      "text/plain": [
       "<Figure size 432x288 with 1 Axes>"
      ]
     },
     "metadata": {
      "needs_background": "light"
     },
     "output_type": "display_data"
    }
   ],
   "source": [
    "'''\n",
    "Understand how many students are married.\n",
    "'''\n",
    "sns.countplot(x='married', data = df).set(title = 'Count of Married Students')\n",
    "plt.show()"
   ]
  },
  {
   "cell_type": "code",
   "execution_count": 58,
   "id": "290e677c",
   "metadata": {},
   "outputs": [
    {
     "data": {
      "text/plain": [
       "No     85\n",
       "Yes    16\n",
       "Name: married, dtype: int64"
      ]
     },
     "execution_count": 58,
     "metadata": {},
     "output_type": "execute_result"
    }
   ],
   "source": [
    "'''\n",
    "Show the values present for number of students married within the dataset.\n",
    "'''\n",
    "df['married'].value_counts()"
   ]
  },
  {
   "cell_type": "code",
   "execution_count": 60,
   "id": "8ef0ff57",
   "metadata": {},
   "outputs": [
    {
     "data": {
      "image/png": "[encoded data removed]",
      "text/plain": [
       "<Figure size 432x288 with 1 Axes>"
      ]
     },
     "metadata": {
      "needs_background": "light"
     },
     "output_type": "display_data"
    }
   ],
   "source": [
    "'''\n",
    "Understand how many students with depression.\n",
    "'''\n",
    "sns.countplot(x='depressed', data = df).set(title = 'Count of Students with Depression')\n",
    "plt.show()"
   ]
  },
  {
   "cell_type": "code",
   "execution_count": 61,
   "id": "f390e7f9",
   "metadata": {},
   "outputs": [
    {
     "data": {
      "text/plain": [
       "No     66\n",
       "Yes    35\n",
       "Name: depressed, dtype: int64"
      ]
     },
     "execution_count": 61,
     "metadata": {},
     "output_type": "execute_result"
    }
   ],
   "source": [
    "'''\n",
    "Show the values present for number of depressed students.\n",
    "'''\n",
    "df['depressed'].value_counts()"
   ]
  },
  {
   "cell_type": "code",
   "execution_count": 62,
   "id": "79d6a627",
   "metadata": {},
   "outputs": [
    {
     "data": {
      "image/png": "[encoded data removed]",
      "text/plain": [
       "<Figure size 432x288 with 1 Axes>"
      ]
     },
     "metadata": {
      "needs_background": "light"
     },
     "output_type": "display_data"
    }
   ],
   "source": [
    "'''\n",
    "Understand how many students have anxiety.\n",
    "'''\n",
    "sns.countplot(x='anxiety', data = df).set(title = 'Count of Students with Anxiety')\n",
    "plt.show()"
   ]
  },
  {
   "cell_type": "code",
   "execution_count": 63,
   "id": "0b6c8601",
   "metadata": {},
   "outputs": [
    {
     "data": {
      "text/plain": [
       "No     67\n",
       "Yes    34\n",
       "Name: anxiety, dtype: int64"
      ]
     },
     "execution_count": 63,
     "metadata": {},
     "output_type": "execute_result"
    }
   ],
   "source": [
    "'''\n",
    "Show the values present for number of students with anxiety.\n",
    "'''\n",
    "df['anxiety'].value_counts()"
   ]
  },
  {
   "cell_type": "code",
   "execution_count": 64,
   "id": "21a40a0b",
   "metadata": {},
   "outputs": [
    {
     "data": {
      "image/png": "[encoded data removed]",
      "text/plain": [
       "<Figure size 432x288 with 1 Axes>"
      ]
     },
     "metadata": {
      "needs_background": "light"
     },
     "output_type": "display_data"
    }
   ],
   "source": [
    "'''\n",
    "Understand how many students have panic attacks.\n",
    "'''\n",
    "sns.countplot(x='panic_attacks', data = df).set(title = 'Count of Students with Panic Attacks')\n",
    "plt.show()"
   ]
  },
  {
   "cell_type": "code",
   "execution_count": 65,
   "id": "199a49bd",
   "metadata": {},
   "outputs": [
    {
     "data": {
      "text/plain": [
       "No     68\n",
       "Yes    33\n",
       "Name: panic_attacks, dtype: int64"
      ]
     },
     "execution_count": 65,
     "metadata": {},
     "output_type": "execute_result"
    }
   ],
   "source": [
    "'''\n",
    "Show the values present for number of students with panic attacks.\n",
    "'''\n",
    "df['panic_attacks'].value_counts()"
   ]
  },
  {
   "cell_type": "code",
   "execution_count": 66,
   "id": "82b96131",
   "metadata": {},
   "outputs": [
    {
     "data": {
      "image/png": "[encoded data removed]",
      "text/plain": [
       "<Figure size 432x288 with 1 Axes>"
      ]
     },
     "metadata": {
      "needs_background": "light"
     },
     "output_type": "display_data"
    }
   ],
   "source": [
    "'''\n",
    "Understand how many students seek treatment\n",
    "'''\n",
    "sns.countplot(x='seek_treatment', data = df).set(title = 'Count of Students Seeking Treatment')\n",
    "plt.show()"
   ]
  },
  {
   "cell_type": "code",
   "execution_count": 68,
   "id": "7f204595",
   "metadata": {
    "scrolled": true
   },
   "outputs": [
    {
     "data": {
      "text/plain": [
       "No     95\n",
       "Yes     6\n",
       "Name: seek_treatment, dtype: int64"
      ]
     },
     "execution_count": 68,
     "metadata": {},
     "output_type": "execute_result"
    }
   ],
   "source": [
    "'''\n",
    "Show the values present for number of students seeking treatments.\n",
    "'''\n",
    "df['seek_treatment'].value_counts()"
   ]
  },
  {
   "cell_type": "code",
   "execution_count": 77,
   "id": "03755637",
   "metadata": {},
   "outputs": [
    {
     "data": {
      "image/png": "[encoded data removed]",
      "text/plain": [
       "<Figure size 432x288 with 1 Axes>"
      ]
     },
     "metadata": {
      "needs_background": "light"
     },
     "output_type": "display_data"
    },
    {
     "data": {
      "image/png": "[encoded data removed]",
      "text/plain": [
       "<Figure size 432x288 with 1 Axes>"
      ]
     },
     "metadata": {
      "needs_background": "light"
     },
     "output_type": "display_data"
    },
    {
     "data": {
      "image/png": "[encoded data removed]",
      "text/plain": [
       "<Figure size 432x288 with 1 Axes>"
      ]
     },
     "metadata": {
      "needs_background": "light"
     },
     "output_type": "display_data"
    },
    {
     "data": {
      "image/png": "[encoded data removed]",
      "text/plain": [
       "<Figure size 432x288 with 1 Axes>"
      ]
     },
     "metadata": {
      "needs_background": "light"
     },
     "output_type": "display_data"
    },
    {
     "data": {
      "image/png": "[encoded data removed]",
      "text/plain": [
       "<Figure size 432x288 with 1 Axes>"
      ]
     },
     "metadata": {
      "needs_background": "light"
     },
     "output_type": "display_data"
    },
    {
     "data": {
      "image/png": "[encoded data removed]",
      "text/plain": [
       "<Figure size 432x288 with 1 Axes>"
      ]
     },
     "metadata": {
      "needs_background": "light"
     },
     "output_type": "display_data"
    },
    {
     "data": {
      "image/png": "[encoded data removed]",
      "text/plain": [
       "<Figure size 432x288 with 1 Axes>"
      ]
     },
     "metadata": {
      "needs_background": "light"
     },
     "output_type": "display_data"
    },
    {
     "data": {
      "image/png": "[encoded data removed]",
      "text/plain": [
       "<Figure size 432x288 with 1 Axes>"
      ]
     },
     "metadata": {
      "needs_background": "light"
     },
     "output_type": "display_data"
    },
    {
     "data": {
      "image/png": "[encoded data removed]",
      "text/plain": [
       "<Figure size 432x288 with 1 Axes>"
      ]
     },
     "metadata": {
      "needs_background": "light"
     },
     "output_type": "display_data"
    },
    {
     "data": {
      "image/png": "[encoded data removed]",
      "text/plain": [
       "<Figure size 432x288 with 1 Axes>"
      ]
     },
     "metadata": {
      "needs_background": "light"
     },
     "output_type": "display_data"
    }
   ],
   "source": [
    "'''\n",
    "Since ploting all the countplots separately is redundant, this section of the code will try to utilize a for loop to plot\n",
    "all the histograms for the columns at once.\n",
    "This code could be used to replace the countplots above in a more efficient manner.\n",
    "'''\n",
    "for col in df.columns:\n",
    "    sns.countplot(x =df[col], data = df) \n",
    "    plt.title(\"Countplot of {}\".format(col), fontsize=15) \n",
    "    plt.xlabel(\"Variable \" +col, fontsize=10) \n",
    "    plt.xticks(fontsize=10) \n",
    "    plt.yticks(fontsize=10)\n",
    "    plt.show()"
   ]
  },
  {
   "cell_type": "markdown",
   "id": "fb351af2",
   "metadata": {},
   "source": [
    "### 3. Create a box plot from the data."
   ]
  },
  {
   "cell_type": "code",
   "execution_count": 76,
   "id": "5db6551c",
   "metadata": {},
   "outputs": [
    {
     "data": {
      "image/png": "[encoded data removed]",
      "text/plain": [
       "<Figure size 720x360 with 1 Axes>"
      ]
     },
     "metadata": {
      "needs_background": "light"
     },
     "output_type": "display_data"
    }
   ],
   "source": [
    "'''\n",
    "Construct a box plot to understand depression based on age.\n",
    "'''\n",
    "df.boxplot(column='age', by='depressed',figsize=(10,5))\n",
    "plt.xlabel(\"Depressed\", fontsize=10)\n",
    "plt.ylabel(\"Age\", fontsize=10)\n",
    "plt.show()"
   ]
  },
  {
   "cell_type": "code",
   "execution_count": 82,
   "id": "dab83aad",
   "metadata": {},
   "outputs": [
    {
     "data": {
      "image/png": "[encoded data removed]",
      "text/plain": [
       "<Figure size 720x360 with 1 Axes>"
      ]
     },
     "metadata": {
      "needs_background": "light"
     },
     "output_type": "display_data"
    }
   ],
   "source": [
    "'''\n",
    "Construct a box plot to understand married students based on age.\n",
    "'''\n",
    "df.boxplot(column='age', by='married',figsize=(10,5))\n",
    "plt.xlabel(\"Married\", fontsize=10)\n",
    "plt.ylabel(\"Age\", fontsize=10)\n",
    "plt.show()"
   ]
  },
  {
   "cell_type": "code",
   "execution_count": 83,
   "id": "f587cd1b",
   "metadata": {},
   "outputs": [
    {
     "data": {
      "image/png": "[encoded data removed]",
      "text/plain": [
       "<Figure size 720x360 with 1 Axes>"
      ]
     },
     "metadata": {
      "needs_background": "light"
     },
     "output_type": "display_data"
    }
   ],
   "source": [
    "'''\n",
    "Construct a box plot to understand anxiety based on age.\n",
    "'''\n",
    "df.boxplot(column='age', by='anxiety',figsize=(10,5))\n",
    "plt.xlabel(\"Anxiety\", fontsize=10)\n",
    "plt.ylabel(\"Age\", fontsize=10)\n",
    "plt.show()"
   ]
  },
  {
   "cell_type": "code",
   "execution_count": 84,
   "id": "1ec21f50",
   "metadata": {},
   "outputs": [
    {
     "data": {
      "image/png": "[encoded data removed]",
      "text/plain": [
       "<Figure size 720x360 with 1 Axes>"
      ]
     },
     "metadata": {
      "needs_background": "light"
     },
     "output_type": "display_data"
    }
   ],
   "source": [
    "'''\n",
    "Construct a box plot to understand panic attacks based on age.\n",
    "'''\n",
    "df.boxplot(column='age', by='panic_attacks',figsize=(10,5))\n",
    "plt.xlabel(\"Panic Attacks\", fontsize=10)\n",
    "plt.ylabel(\"Age\", fontsize=10)\n",
    "plt.show()"
   ]
  },
  {
   "cell_type": "markdown",
   "id": "c104ad6f",
   "metadata": {},
   "source": [
    "### 4. Create a bivariate plot from the data."
   ]
  },
  {
   "cell_type": "code",
   "execution_count": 87,
   "id": "74af016f",
   "metadata": {},
   "outputs": [
    {
     "data": {
      "image/png": "[encoded data removed]",
      "text/plain": [
       "<Figure size 432x288 with 1 Axes>"
      ]
     },
     "metadata": {
      "needs_background": "light"
     },
     "output_type": "display_data"
    }
   ],
   "source": [
    "'''\n",
    "Construct a bivariate countplot for gender and depression.\n",
    "'''\n",
    "sns.countplot(x = df['gender'], hue = df['depressed']).set(title = 'Count of Depressed Students by Gender')\n",
    "plt.show()"
   ]
  },
  {
   "cell_type": "code",
   "execution_count": 124,
   "id": "f86d0128",
   "metadata": {},
   "outputs": [
    {
     "data": {
      "text/plain": [
       "depressed  gender\n",
       "No         Female    46\n",
       "           Male      20\n",
       "Yes        Female    29\n",
       "           Male       6\n",
       "Name: age, dtype: int64"
      ]
     },
     "execution_count": 124,
     "metadata": {},
     "output_type": "execute_result"
    }
   ],
   "source": [
    "'''\n",
    "Find the count of depressed students by gender.\n",
    "'''\n",
    "df.groupby(['depressed','gender'])['age'].count()"
   ]
  },
  {
   "cell_type": "code",
   "execution_count": 88,
   "id": "b7a7107f",
   "metadata": {},
   "outputs": [
    {
     "data": {
      "image/png": "[encoded data removed]",
      "text/plain": [
       "<Figure size 432x288 with 1 Axes>"
      ]
     },
     "metadata": {
      "needs_background": "light"
     },
     "output_type": "display_data"
    }
   ],
   "source": [
    "'''\n",
    "Construct a bivariate countplot for age and depression.\n",
    "'''\n",
    "sns.countplot(x = df['age'], hue = df['depressed']).set(title = 'Count of Depressed Students by Age')\n",
    "plt.show()"
   ]
  },
  {
   "cell_type": "code",
   "execution_count": 128,
   "id": "b3234e18",
   "metadata": {},
   "outputs": [
    {
     "data": {
      "text/plain": [
       "depressed  age \n",
       "No         18.0    21\n",
       "           19.0    13\n",
       "           20.0     3\n",
       "           21.0     3\n",
       "           22.0     1\n",
       "           23.0     8\n",
       "           24.0    17\n",
       "Yes        18.0    11\n",
       "           19.0     9\n",
       "           20.0     3\n",
       "           22.0     1\n",
       "           23.0     5\n",
       "           24.0     6\n",
       "Name: gender, dtype: int64"
      ]
     },
     "execution_count": 128,
     "metadata": {},
     "output_type": "execute_result"
    }
   ],
   "source": [
    "'''\n",
    "Find the count of depressed students by age.\n",
    "'''\n",
    "df.groupby(['depressed','age'])['gender'].count()"
   ]
  },
  {
   "cell_type": "code",
   "execution_count": 96,
   "id": "e80f92fc",
   "metadata": {},
   "outputs": [
    {
     "data": {
      "image/png": "[encoded data removed]",
      "text/plain": [
       "<Figure size 432x288 with 1 Axes>"
      ]
     },
     "metadata": {
      "needs_background": "light"
     },
     "output_type": "display_data"
    }
   ],
   "source": [
    "'''\n",
    "Construct a bivariate countplot for number of years in college and depression.\n",
    "'''\n",
    "sns.countplot(x = df['year_of_study'], hue = df['depressed']).set(title = 'Count of Depressed Students by Years in College')\n",
    "plt.show()"
   ]
  },
  {
   "cell_type": "code",
   "execution_count": 130,
   "id": "bd09009f",
   "metadata": {},
   "outputs": [
    {
     "data": {
      "text/plain": [
       "depressed  year_of_study\n",
       "No         1                29\n",
       "           2                16\n",
       "           3                14\n",
       "           4                 7\n",
       "Yes        1                14\n",
       "           2                10\n",
       "           3                10\n",
       "           4                 1\n",
       "Name: age, dtype: int64"
      ]
     },
     "execution_count": 130,
     "metadata": {},
     "output_type": "execute_result"
    }
   ],
   "source": [
    "'''\n",
    "Find the count of depressed students by years in college.\n",
    "'''\n",
    "df.groupby(['depressed','year_of_study'])['age'].count()"
   ]
  },
  {
   "cell_type": "code",
   "execution_count": 98,
   "id": "a0c04879",
   "metadata": {},
   "outputs": [
    {
     "data": {
      "image/png": "[encoded data removed]",
      "text/plain": [
       "<Figure size 432x288 with 1 Axes>"
      ]
     },
     "metadata": {
      "needs_background": "light"
     },
     "output_type": "display_data"
    }
   ],
   "source": [
    "'''\n",
    "Construct a bivariate countplot for married students and depression.\n",
    "'''\n",
    "sns.countplot(x = df['married'], hue = df['depressed']).set(title = 'Count of Depressed Students by Married Status')\n",
    "plt.show()"
   ]
  },
  {
   "cell_type": "code",
   "execution_count": 131,
   "id": "ec8ff5ab",
   "metadata": {},
   "outputs": [
    {
     "data": {
      "text/plain": [
       "depressed  married\n",
       "No         No         66\n",
       "Yes        No         19\n",
       "           Yes        16\n",
       "Name: age, dtype: int64"
      ]
     },
     "execution_count": 131,
     "metadata": {},
     "output_type": "execute_result"
    }
   ],
   "source": [
    "'''\n",
    "Find the count of depressed students by married status.\n",
    "'''\n",
    "df.groupby(['depressed','married'])['age'].count()"
   ]
  },
  {
   "cell_type": "code",
   "execution_count": 99,
   "id": "1399ba5d",
   "metadata": {},
   "outputs": [
    {
     "data": {
      "image/png": "[encoded data removed]",
      "text/plain": [
       "<Figure size 432x288 with 1 Axes>"
      ]
     },
     "metadata": {
      "needs_background": "light"
     },
     "output_type": "display_data"
    }
   ],
   "source": [
    "'''\n",
    "Construct a bivariate countplot for gender and anxiety.\n",
    "'''\n",
    "sns.countplot(x = df['gender'], hue = df['anxiety']).set(title = 'Count of Anxious Students by Gender')\n",
    "plt.show()"
   ]
  },
  {
   "cell_type": "code",
   "execution_count": 126,
   "id": "5b38368a",
   "metadata": {},
   "outputs": [
    {
     "data": {
      "text/plain": [
       "anxiety  gender\n",
       "No       Female    51\n",
       "         Male      16\n",
       "Yes      Female    24\n",
       "         Male      10\n",
       "Name: age, dtype: int64"
      ]
     },
     "execution_count": 126,
     "metadata": {},
     "output_type": "execute_result"
    }
   ],
   "source": [
    "'''\n",
    "Find the count of anxious students by gender.\n",
    "'''\n",
    "df.groupby(['anxiety','gender'])['age'].count()"
   ]
  },
  {
   "cell_type": "code",
   "execution_count": 100,
   "id": "c44814ef",
   "metadata": {},
   "outputs": [
    {
     "data": {
      "image/png": "[encoded data removed]",
      "text/plain": [
       "<Figure size 432x288 with 1 Axes>"
      ]
     },
     "metadata": {
      "needs_background": "light"
     },
     "output_type": "display_data"
    }
   ],
   "source": [
    "'''\n",
    "Construct a bivariate countplot for age and anxiety.\n",
    "'''\n",
    "sns.countplot(x = df['age'], hue = df['anxiety']).set(title = 'Count of Anxious Students by Age')\n",
    "plt.show()"
   ]
  },
  {
   "cell_type": "code",
   "execution_count": 132,
   "id": "34fffa98",
   "metadata": {},
   "outputs": [
    {
     "data": {
      "text/plain": [
       "anxiety  age \n",
       "No       18.0    18\n",
       "         19.0    17\n",
       "         20.0     3\n",
       "         21.0     1\n",
       "         22.0     2\n",
       "         23.0    11\n",
       "         24.0    15\n",
       "Yes      18.0    14\n",
       "         19.0     5\n",
       "         20.0     3\n",
       "         21.0     2\n",
       "         23.0     2\n",
       "         24.0     8\n",
       "Name: gender, dtype: int64"
      ]
     },
     "execution_count": 132,
     "metadata": {},
     "output_type": "execute_result"
    }
   ],
   "source": [
    "'''\n",
    "Find the count of anxious students by age.\n",
    "'''\n",
    "df.groupby(['anxiety','age'])['gender'].count()"
   ]
  },
  {
   "cell_type": "code",
   "execution_count": 101,
   "id": "f2612fa7",
   "metadata": {},
   "outputs": [
    {
     "data": {
      "image/png": "[encoded data removed]",
      "text/plain": [
       "<Figure size 432x288 with 1 Axes>"
      ]
     },
     "metadata": {
      "needs_background": "light"
     },
     "output_type": "display_data"
    }
   ],
   "source": [
    "'''\n",
    "Construct a bivariate countplot for number of years in college and anxiety.\n",
    "'''\n",
    "sns.countplot(x = df['year_of_study'], hue = df['anxiety']).set(title = 'Count of Anxious Students by Years in College')\n",
    "plt.show()"
   ]
  },
  {
   "cell_type": "code",
   "execution_count": 134,
   "id": "3b83b599",
   "metadata": {},
   "outputs": [
    {
     "data": {
      "text/plain": [
       "anxiety  year_of_study\n",
       "No       1                29\n",
       "         2                16\n",
       "         3                16\n",
       "         4                 6\n",
       "Yes      1                14\n",
       "         2                10\n",
       "         3                 8\n",
       "         4                 2\n",
       "Name: age, dtype: int64"
      ]
     },
     "execution_count": 134,
     "metadata": {},
     "output_type": "execute_result"
    }
   ],
   "source": [
    "'''\n",
    "Find the count of anxious students by years in college.\n",
    "'''\n",
    "df.groupby(['anxiety','year_of_study'])['age'].count()"
   ]
  },
  {
   "cell_type": "code",
   "execution_count": 102,
   "id": "fe578714",
   "metadata": {},
   "outputs": [
    {
     "data": {
      "image/png": "[encoded data removed]",
      "text/plain": [
       "<Figure size 432x288 with 1 Axes>"
      ]
     },
     "metadata": {
      "needs_background": "light"
     },
     "output_type": "display_data"
    }
   ],
   "source": [
    "'''\n",
    "Construct a bivariate countplot for married students and anxiety.\n",
    "'''\n",
    "sns.countplot(x = df['married'], hue = df['anxiety']).set(title = 'Count of Anxious Students by Married Status')\n",
    "plt.show()"
   ]
  },
  {
   "cell_type": "code",
   "execution_count": 135,
   "id": "0e0b0a92",
   "metadata": {},
   "outputs": [
    {
     "data": {
      "text/plain": [
       "anxiety  married\n",
       "No       No         58\n",
       "         Yes         9\n",
       "Yes      No         27\n",
       "         Yes         7\n",
       "Name: age, dtype: int64"
      ]
     },
     "execution_count": 135,
     "metadata": {},
     "output_type": "execute_result"
    }
   ],
   "source": [
    "'''\n",
    "Find the count of anxious students by marriage status.\n",
    "'''\n",
    "df.groupby(['anxiety','married'])['age'].count()"
   ]
  },
  {
   "cell_type": "code",
   "execution_count": 103,
   "id": "e66d53b4",
   "metadata": {},
   "outputs": [
    {
     "data": {
      "image/png": "[encoded data removed]",
      "text/plain": [
       "<Figure size 432x288 with 1 Axes>"
      ]
     },
     "metadata": {
      "needs_background": "light"
     },
     "output_type": "display_data"
    }
   ],
   "source": [
    "'''\n",
    "Construct a bivariate countplot for gender and panic attacks.\n",
    "'''\n",
    "sns.countplot(x = df['gender'], hue = df['panic_attacks']).set(title = 'Count of Panic Attack Students by Gender')\n",
    "plt.show()"
   ]
  },
  {
   "cell_type": "code",
   "execution_count": 127,
   "id": "faaab9f4",
   "metadata": {},
   "outputs": [
    {
     "data": {
      "text/plain": [
       "panic_attacks  gender\n",
       "No             Female    50\n",
       "               Male      18\n",
       "Yes            Female    25\n",
       "               Male       8\n",
       "Name: age, dtype: int64"
      ]
     },
     "execution_count": 127,
     "metadata": {},
     "output_type": "execute_result"
    }
   ],
   "source": [
    "'''\n",
    "Find the count of panic attack students by gender.\n",
    "'''\n",
    "df.groupby(['panic_attacks','gender'])['age'].count()"
   ]
  },
  {
   "cell_type": "code",
   "execution_count": 104,
   "id": "66974bac",
   "metadata": {},
   "outputs": [
    {
     "data": {
      "image/png": "[encoded data removed]",
      "text/plain": [
       "<Figure size 432x288 with 1 Axes>"
      ]
     },
     "metadata": {
      "needs_background": "light"
     },
     "output_type": "display_data"
    }
   ],
   "source": [
    "'''\n",
    "Construct a bivariate countplot for age and panic attacks.\n",
    "'''\n",
    "sns.countplot(x = df['age'], hue = df['panic_attacks']).set(title = 'Count of Panic Attack Students by Age')\n",
    "plt.show()"
   ]
  },
  {
   "cell_type": "code",
   "execution_count": 136,
   "id": "3a318cf3",
   "metadata": {},
   "outputs": [
    {
     "data": {
      "text/plain": [
       "panic_attacks  age \n",
       "No             18.0    23\n",
       "               19.0    13\n",
       "               20.0     5\n",
       "               21.0     3\n",
       "               22.0     2\n",
       "               23.0     8\n",
       "               24.0    14\n",
       "Yes            18.0     9\n",
       "               19.0     9\n",
       "               20.0     1\n",
       "               23.0     5\n",
       "               24.0     9\n",
       "Name: gender, dtype: int64"
      ]
     },
     "execution_count": 136,
     "metadata": {},
     "output_type": "execute_result"
    }
   ],
   "source": [
    "'''\n",
    "Find the count of panic attack students by age.\n",
    "'''\n",
    "df.groupby(['panic_attacks','age'])['gender'].count()"
   ]
  },
  {
   "cell_type": "code",
   "execution_count": 105,
   "id": "adca347f",
   "metadata": {},
   "outputs": [
    {
     "data": {
      "image/png": "[encoded data removed]",
      "text/plain": [
       "<Figure size 432x288 with 1 Axes>"
      ]
     },
     "metadata": {
      "needs_background": "light"
     },
     "output_type": "display_data"
    }
   ],
   "source": [
    "'''\n",
    "Construct a bivariate countplot for number of years in college and panic attacks.\n",
    "'''\n",
    "sns.countplot(x = df['year_of_study'], hue = df['panic_attacks']).set(title = 'Count of Panic Attack Students by Years in College')\n",
    "plt.show()"
   ]
  },
  {
   "cell_type": "code",
   "execution_count": 137,
   "id": "bf06bc80",
   "metadata": {},
   "outputs": [
    {
     "data": {
      "text/plain": [
       "panic_attacks  year_of_study\n",
       "No             1                29\n",
       "               2                18\n",
       "               3                14\n",
       "               4                 7\n",
       "Yes            1                14\n",
       "               2                 8\n",
       "               3                10\n",
       "               4                 1\n",
       "Name: age, dtype: int64"
      ]
     },
     "execution_count": 137,
     "metadata": {},
     "output_type": "execute_result"
    }
   ],
   "source": [
    "'''\n",
    "Find the count of panic attack students by years in college.\n",
    "'''\n",
    "df.groupby(['panic_attacks','year_of_study'])['age'].count()"
   ]
  },
  {
   "cell_type": "code",
   "execution_count": 106,
   "id": "ed28c021",
   "metadata": {},
   "outputs": [
    {
     "data": {
      "image/png": "[encoded data removed]",
      "text/plain": [
       "<Figure size 432x288 with 1 Axes>"
      ]
     },
     "metadata": {
      "needs_background": "light"
     },
     "output_type": "display_data"
    }
   ],
   "source": [
    "'''\n",
    "Construct a bivariate countplot for married students and panic attacks.\n",
    "'''\n",
    "sns.countplot(x = df['married'], hue = df['panic_attacks']).set(title = 'Count of Panic Attack Students by Married Status')\n",
    "plt.show()"
   ]
  },
  {
   "cell_type": "code",
   "execution_count": 138,
   "id": "cd32e889",
   "metadata": {},
   "outputs": [
    {
     "data": {
      "text/plain": [
       "panic_attacks  married\n",
       "No             No         62\n",
       "               Yes         6\n",
       "Yes            No         23\n",
       "               Yes        10\n",
       "Name: age, dtype: int64"
      ]
     },
     "execution_count": 138,
     "metadata": {},
     "output_type": "execute_result"
    }
   ],
   "source": [
    "'''\n",
    "Find the count of panic attack students by marriage status.\n",
    "'''\n",
    "df.groupby(['panic_attacks','married'])['age'].count()"
   ]
  },
  {
   "cell_type": "markdown",
   "id": "b65bd48f",
   "metadata": {},
   "source": [
    "### 5. Create any additional visualizations that will help answer the questions."
   ]
  },
  {
   "cell_type": "code",
   "execution_count": 139,
   "id": "96ecc147",
   "metadata": {},
   "outputs": [
    {
     "data": {
      "image/png": "[encoded data removed]",
      "text/plain": [
       "<Figure size 432x288 with 1 Axes>"
      ]
     },
     "metadata": {
      "needs_background": "light"
     },
     "output_type": "display_data"
    }
   ],
   "source": [
    "'''\n",
    "Construct a bivariate countplot for depressed students and treatment seekers.\n",
    "'''\n",
    "sns.countplot(x = df['seek_treatment'], hue = df['depressed']).set(title = 'Count of Depressed Students Seeking Treatment')\n",
    "plt.show()"
   ]
  },
  {
   "cell_type": "code",
   "execution_count": 140,
   "id": "76a4bbec",
   "metadata": {},
   "outputs": [
    {
     "data": {
      "text/plain": [
       "depressed  seek_treatment\n",
       "No         No                66\n",
       "Yes        No                29\n",
       "           Yes                6\n",
       "Name: age, dtype: int64"
      ]
     },
     "execution_count": 140,
     "metadata": {},
     "output_type": "execute_result"
    }
   ],
   "source": [
    "'''\n",
    "Find the count of depressed students seeking treatment.\n",
    "'''\n",
    "df.groupby(['depressed','seek_treatment'])['age'].count()"
   ]
  },
  {
   "cell_type": "code",
   "execution_count": 141,
   "id": "a29aed1f",
   "metadata": {},
   "outputs": [
    {
     "data": {
      "image/png": "[encoded data removed]",
      "text/plain": [
       "<Figure size 432x288 with 1 Axes>"
      ]
     },
     "metadata": {
      "needs_background": "light"
     },
     "output_type": "display_data"
    }
   ],
   "source": [
    "'''\n",
    "Construct a bivariate countplot for anxious students and treatment seekers.\n",
    "'''\n",
    "sns.countplot(x = df['seek_treatment'], hue = df['anxiety']).set(title = 'Count of Anxious Students Seeking Treatment')\n",
    "plt.show()"
   ]
  },
  {
   "cell_type": "code",
   "execution_count": 142,
   "id": "040b7f44",
   "metadata": {},
   "outputs": [
    {
     "data": {
      "text/plain": [
       "anxiety  seek_treatment\n",
       "No       No                64\n",
       "         Yes                3\n",
       "Yes      No                31\n",
       "         Yes                3\n",
       "Name: age, dtype: int64"
      ]
     },
     "execution_count": 142,
     "metadata": {},
     "output_type": "execute_result"
    }
   ],
   "source": [
    "'''\n",
    "Find the count of anxious students seeking treatment.\n",
    "'''\n",
    "df.groupby(['anxiety','seek_treatment'])['age'].count()"
   ]
  },
  {
   "cell_type": "code",
   "execution_count": 143,
   "id": "e7db6afb",
   "metadata": {},
   "outputs": [
    {
     "data": {
      "image/png": "[encoded data removed]",
      "text/plain": [
       "<Figure size 432x288 with 1 Axes>"
      ]
     },
     "metadata": {
      "needs_background": "light"
     },
     "output_type": "display_data"
    }
   ],
   "source": [
    "'''\n",
    "Construct a bivariate countplot for panic attack students and treatment seekers.\n",
    "'''\n",
    "sns.countplot(x = df['seek_treatment'], hue = df['panic_attacks']).set(title = 'Count of Panic Attack Students Seeking Treatment')\n",
    "plt.show()"
   ]
  },
  {
   "cell_type": "code",
   "execution_count": 144,
   "id": "0384d961",
   "metadata": {},
   "outputs": [
    {
     "data": {
      "text/plain": [
       "panic_attacks  seek_treatment\n",
       "No             No                66\n",
       "               Yes                2\n",
       "Yes            No                29\n",
       "               Yes                4\n",
       "Name: age, dtype: int64"
      ]
     },
     "execution_count": 144,
     "metadata": {},
     "output_type": "execute_result"
    }
   ],
   "source": [
    "'''\n",
    "Find the count of panic attack students seeking treatment.\n",
    "'''\n",
    "df.groupby(['panic_attacks','seek_treatment'])['age'].count()"
   ]
  },
  {
   "cell_type": "code",
   "execution_count": 145,
   "id": "375133f6",
   "metadata": {},
   "outputs": [
    {
     "data": {
      "image/png": "[encoded data removed]",
      "text/plain": [
       "<Figure size 432x288 with 1 Axes>"
      ]
     },
     "metadata": {
      "needs_background": "light"
     },
     "output_type": "display_data"
    }
   ],
   "source": [
    "'''\n",
    "Construct a bivariate countplot for depressed students and anxiety.\n",
    "'''\n",
    "sns.countplot(x = df['depressed'], hue = df['anxiety']).set(title = 'Count of Depressed Students with Anxiety')\n",
    "plt.show()"
   ]
  },
  {
   "cell_type": "code",
   "execution_count": 146,
   "id": "333d46c0",
   "metadata": {},
   "outputs": [
    {
     "data": {
      "text/plain": [
       "depressed  anxiety\n",
       "No         No         50\n",
       "           Yes        16\n",
       "Yes        No         17\n",
       "           Yes        18\n",
       "Name: age, dtype: int64"
      ]
     },
     "execution_count": 146,
     "metadata": {},
     "output_type": "execute_result"
    }
   ],
   "source": [
    "'''\n",
    "Find the count of depressed students with anxiety.\n",
    "'''\n",
    "df.groupby(['depressed','anxiety'])['age'].count()"
   ]
  },
  {
   "cell_type": "code",
   "execution_count": 147,
   "id": "07e0886b",
   "metadata": {},
   "outputs": [
    {
     "data": {
      "image/png": "[encoded data removed]",
      "text/plain": [
       "<Figure size 432x288 with 1 Axes>"
      ]
     },
     "metadata": {
      "needs_background": "light"
     },
     "output_type": "display_data"
    }
   ],
   "source": [
    "'''\n",
    "Construct a bivariate countplot for depressed students and panic attacks.\n",
    "'''\n",
    "sns.countplot(x = df['depressed'], hue = df['panic_attacks']).set(title = 'Count of Depressed Students with Panic Attacks')\n",
    "plt.show()"
   ]
  },
  {
   "cell_type": "code",
   "execution_count": 148,
   "id": "c4662391",
   "metadata": {},
   "outputs": [
    {
     "data": {
      "text/plain": [
       "depressed  panic_attacks\n",
       "No         No               50\n",
       "           Yes              16\n",
       "Yes        No               18\n",
       "           Yes              17\n",
       "Name: age, dtype: int64"
      ]
     },
     "execution_count": 148,
     "metadata": {},
     "output_type": "execute_result"
    }
   ],
   "source": [
    "'''\n",
    "Find the count of depressed students with panic attacks.\n",
    "'''\n",
    "df.groupby(['depressed','panic_attacks'])['age'].count()"
   ]
  },
  {
   "cell_type": "code",
   "execution_count": 149,
   "id": "4358b46a",
   "metadata": {},
   "outputs": [
    {
     "data": {
      "image/png": "[encoded data removed]",
      "text/plain": [
       "<Figure size 432x288 with 1 Axes>"
      ]
     },
     "metadata": {
      "needs_background": "light"
     },
     "output_type": "display_data"
    }
   ],
   "source": [
    "'''\n",
    "Construct a bivariate countplot for anxiety students and panic attacks.\n",
    "'''\n",
    "sns.countplot(x = df['anxiety'], hue = df['panic_attacks']).set(title = 'Count of Anxious Students with Panic Attacks')\n",
    "plt.show()"
   ]
  },
  {
   "cell_type": "code",
   "execution_count": 150,
   "id": "3f07e3d3",
   "metadata": {},
   "outputs": [
    {
     "data": {
      "text/plain": [
       "anxiety  panic_attacks\n",
       "No       No               47\n",
       "         Yes              20\n",
       "Yes      No               21\n",
       "         Yes              13\n",
       "Name: age, dtype: int64"
      ]
     },
     "execution_count": 150,
     "metadata": {},
     "output_type": "execute_result"
    }
   ],
   "source": [
    "'''\n",
    "Find the count of anxious students with panic attacks.\n",
    "'''\n",
    "df.groupby(['anxiety','panic_attacks'])['age'].count()"
   ]
  },
  {
   "cell_type": "code",
   "execution_count": 151,
   "id": "c2798e33",
   "metadata": {},
   "outputs": [
    {
     "data": {
      "text/plain": [
       "depressed  anxiety  panic_attacks\n",
       "No         No       No               37\n",
       "                    Yes              13\n",
       "           Yes      No               13\n",
       "                    Yes               3\n",
       "Yes        No       No               10\n",
       "                    Yes               7\n",
       "           Yes      No                8\n",
       "                    Yes              10\n",
       "Name: age, dtype: int64"
      ]
     },
     "execution_count": 151,
     "metadata": {},
     "output_type": "execute_result"
    }
   ],
   "source": [
    "'''\n",
    "Find the count of anxious students with panic attacks.\n",
    "'''\n",
    "df.groupby(['depressed', 'anxiety','panic_attacks'])['age'].count()"
   ]
  },
  {
   "cell_type": "markdown",
   "id": "95babede",
   "metadata": {},
   "source": [
    "### 6. Summarize findings and explain how visualizations support findings."
   ]
  },
  {
   "cell_type": "markdown",
   "id": "b851fe2c",
   "metadata": {},
   "source": [
    "### Summary of findings:\n",
    "<ul>\n",
    "    <li> This dataset is not very balanced. It shall be noted this dataset consists of 75 females and 26 males between the ages of 18-24 years old. Majority of students were in the first year of their college program (43%) and the least amount of students were in the last year of their college program (8%). The remaining 49% were in their second year (26%) or third year of college (23%). From the students surveyed, roughly 84% were not married. Of the students surveyed, 35 of the 101 students did have depression. There were 34 of the 101 students with anxiety. Lastly, there were 33 of the 101 students that experience panic attacks. All of these statements are shown in the univariate countplots from Section 2 above. An improvement for future studies would be to expand on the surveyed data to obtain more datapoints for better balance. Based on the dataset provided, I'll highlight the findings for the questions posted in Section 1. \n",
    "    <li> Majority of the students with depression were female (83%). Of the 35 students with depression, 29 of them were female. Same trend held true for anxiety and panic attacks. Of the 34 students with anxiety, 24 of them were female (71%). Of the 33 students with panic attacks, 25 of them were female (76%). The bivariate charts in Section 4 illustrate these findings from the dataset.Since this dataset is biased with more female students compared to male, we cannot definitively draw conclusions for gender influence on depression.   \n",
    "    <li> Over half of the students that were depressed were 18 or 19 years of age (57%). About 42% of the students with anxiety were 18 years old. For panic attacks, 82% of students were 18, 19, or 24 years old. All of these findings are portrayed from the bivariate countplots in Section 4. \n",
    "    <li> All but one student that was depressed were in years 1-3 of their college career. The same finding holds true for panic attacks. For anxiety, all but two students were in years 1-3 of their college career. \n",
    "    <li> Interestingly, all the depressed students within this survey were married. Only 7 of the 34 students with anxiety were married (21%). There were 10 of 33 students with panic attacks that were married (30%). All of these findings are portrayed in the bivariate countplots in Section 5. \n",
    "    <li> For the 35 individuals with depression, 18 of them also have anxiety. Similarly, 17 of the depressed individuals also have panic attacks. Of the 35 individuals with depression, 10 students have both anxiety and panic attacks as well. These findings can also be found in the bivariate countplots in Section 5.\n",
    "    <li> For depressed students, only 6 students (17%) are seeking treatment. For anxious students, 3 students (9%) are seeking treatment. Interestingly, there are 3 of 67 (4%) students that claim to not have anxiety, but are still seeking treatment. For panic attack students, 4 students (12%) are seeking treatment. Interestingly, there are 2 of 68 (3%) students that claim to not have panic attacks, but are still seeking treatment. For any of these mental health issues, not nearly enough students are seeking the help they need. All of these findings are illustrated in the bivariate countplots in Section 5.\n",
    "    <li> To summarize, additional data collection would be recommended prior to forming any conclusions for mental health analysis. There were some interesting findings within this dataset. Females tended to have higher counts of depression, anxiety, and panic attacks compared to males. This may be due to the inbalance present for gender within the dataset. Students with any of the mental health issues appeared to be closer to 18 or 19 year of age and within the first three years of their college careers. For individuals with depression, almost half of the students also had another mental health issue. In addition, a third of the folks with depression also had anxiety and panic attacks. Only about 17% of the students with depression are seeking the treatment needed (it is even lower for anxiety and panic attacks). This percentage needs to drastically increase to ensure our student's mental health concerns are improved.\n",
    "<ul>"
   ]
  }
 ],
 "metadata": {
  "kernelspec": {
   "display_name": "Python 3 (ipykernel)",
   "language": "python",
   "name": "python3"
  },
  "language_info": {
   "codemirror_mode": {
    "name": "ipython",
    "version": 3
   },
   "file_extension": ".py",
   "mimetype": "text/x-python",
   "name": "python",
   "nbconvert_exporter": "python",
   "pygments_lexer": "ipython3",
   "version": "3.7.1"
  }
 },
 "nbformat": 4,
 "nbformat_minor": 5
}
